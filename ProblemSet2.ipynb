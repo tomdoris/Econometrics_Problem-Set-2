{
 "cells": [
  {
   "cell_type": "markdown",
   "id": "3d6bd143-2099-4054-a0a4-f1eb681df8ff",
   "metadata": {},
   "source": [
    "# Econometrics Problem Set 2"
   ]
  },
  {
   "cell_type": "markdown",
   "id": "90ae8203-e4fc-4f6f-8cf5-d5950f337f62",
   "metadata": {},
   "source": [
    "### In this problem set we are going to look at the realtionship between a number of the characteristics of basketball players and their wages. Firstly i am going to import all the different libraries that I need. In addition to the ones that i imported in problem set 1 i am also importing seaborn which is a great data visualisation library."
   ]
  },
  {
   "cell_type": "code",
   "execution_count": 1,
   "id": "4fb57155-5a61-4acc-ba85-cf39a89545de",
   "metadata": {
    "tags": []
   },
   "outputs": [],
   "source": [
    "import pandas as pd\n",
    "import numpy as np\n",
    "import matplotlib.pyplot as plt\n",
    "import seaborn as sns\n",
    "import scipy.stats\n",
    "import statsmodels.api as sm"
   ]
  },
  {
   "cell_type": "markdown",
   "id": "b73c116f-f965-472c-ac4e-4ba958c321c1",
   "metadata": {},
   "source": [
    "### Next is to load the data in to a dataframe using pandas and take a look at the data that we have in a tbaular form."
   ]
  },
  {
   "cell_type": "code",
   "execution_count": 2,
   "id": "d72dbaae-1f98-494c-9582-3b79024e33c0",
   "metadata": {
    "tags": []
   },
   "outputs": [
    {
     "data": {
      "text/html": [
       "<div>\n",
       "<style scoped>\n",
       "    .dataframe tbody tr th:only-of-type {\n",
       "        vertical-align: middle;\n",
       "    }\n",
       "\n",
       "    .dataframe tbody tr th {\n",
       "        vertical-align: top;\n",
       "    }\n",
       "\n",
       "    .dataframe thead th {\n",
       "        text-align: right;\n",
       "    }\n",
       "</style>\n",
       "<table border=\"1\" class=\"dataframe\">\n",
       "  <thead>\n",
       "    <tr style=\"text-align: right;\">\n",
       "      <th></th>\n",
       "      <th>ID</th>\n",
       "      <th>marr</th>\n",
       "      <th>wage</th>\n",
       "      <th>exper</th>\n",
       "      <th>age</th>\n",
       "      <th>coll</th>\n",
       "      <th>games</th>\n",
       "      <th>minutes</th>\n",
       "      <th>guard</th>\n",
       "      <th>forward</th>\n",
       "      <th>...</th>\n",
       "      <th>assists</th>\n",
       "      <th>draft</th>\n",
       "      <th>allstar</th>\n",
       "      <th>avgmin</th>\n",
       "      <th>lwage</th>\n",
       "      <th>black</th>\n",
       "      <th>children</th>\n",
       "      <th>expersq</th>\n",
       "      <th>agesq</th>\n",
       "      <th>marrblck</th>\n",
       "    </tr>\n",
       "  </thead>\n",
       "  <tbody>\n",
       "    <tr>\n",
       "      <th>0</th>\n",
       "      <td>1</td>\n",
       "      <td>1</td>\n",
       "      <td>1002.5</td>\n",
       "      <td>4</td>\n",
       "      <td>27</td>\n",
       "      <td>4</td>\n",
       "      <td>77</td>\n",
       "      <td>2867</td>\n",
       "      <td>1</td>\n",
       "      <td>0</td>\n",
       "      <td>...</td>\n",
       "      <td>5</td>\n",
       "      <td>19.0</td>\n",
       "      <td>0</td>\n",
       "      <td>37.23</td>\n",
       "      <td>6.91</td>\n",
       "      <td>1</td>\n",
       "      <td>0</td>\n",
       "      <td>16</td>\n",
       "      <td>729</td>\n",
       "      <td>1</td>\n",
       "    </tr>\n",
       "    <tr>\n",
       "      <th>1</th>\n",
       "      <td>2</td>\n",
       "      <td>1</td>\n",
       "      <td>2030.0</td>\n",
       "      <td>5</td>\n",
       "      <td>28</td>\n",
       "      <td>4</td>\n",
       "      <td>78</td>\n",
       "      <td>2789</td>\n",
       "      <td>1</td>\n",
       "      <td>0</td>\n",
       "      <td>...</td>\n",
       "      <td>9</td>\n",
       "      <td>28.0</td>\n",
       "      <td>0</td>\n",
       "      <td>35.76</td>\n",
       "      <td>7.62</td>\n",
       "      <td>1</td>\n",
       "      <td>1</td>\n",
       "      <td>25</td>\n",
       "      <td>784</td>\n",
       "      <td>1</td>\n",
       "    </tr>\n",
       "    <tr>\n",
       "      <th>2</th>\n",
       "      <td>3</td>\n",
       "      <td>0</td>\n",
       "      <td>650.0</td>\n",
       "      <td>1</td>\n",
       "      <td>25</td>\n",
       "      <td>4</td>\n",
       "      <td>74</td>\n",
       "      <td>1149</td>\n",
       "      <td>0</td>\n",
       "      <td>0</td>\n",
       "      <td>...</td>\n",
       "      <td>0</td>\n",
       "      <td>19.0</td>\n",
       "      <td>0</td>\n",
       "      <td>15.53</td>\n",
       "      <td>6.48</td>\n",
       "      <td>1</td>\n",
       "      <td>0</td>\n",
       "      <td>1</td>\n",
       "      <td>625</td>\n",
       "      <td>0</td>\n",
       "    </tr>\n",
       "    <tr>\n",
       "      <th>3</th>\n",
       "      <td>4</td>\n",
       "      <td>0</td>\n",
       "      <td>2030.0</td>\n",
       "      <td>5</td>\n",
       "      <td>28</td>\n",
       "      <td>4</td>\n",
       "      <td>47</td>\n",
       "      <td>1178</td>\n",
       "      <td>0</td>\n",
       "      <td>1</td>\n",
       "      <td>...</td>\n",
       "      <td>2</td>\n",
       "      <td>1.0</td>\n",
       "      <td>0</td>\n",
       "      <td>25.06</td>\n",
       "      <td>7.62</td>\n",
       "      <td>1</td>\n",
       "      <td>0</td>\n",
       "      <td>25</td>\n",
       "      <td>784</td>\n",
       "      <td>0</td>\n",
       "    </tr>\n",
       "    <tr>\n",
       "      <th>4</th>\n",
       "      <td>5</td>\n",
       "      <td>0</td>\n",
       "      <td>755.0</td>\n",
       "      <td>3</td>\n",
       "      <td>24</td>\n",
       "      <td>4</td>\n",
       "      <td>82</td>\n",
       "      <td>2096</td>\n",
       "      <td>1</td>\n",
       "      <td>0</td>\n",
       "      <td>...</td>\n",
       "      <td>3</td>\n",
       "      <td>24.0</td>\n",
       "      <td>0</td>\n",
       "      <td>25.56</td>\n",
       "      <td>6.63</td>\n",
       "      <td>1</td>\n",
       "      <td>0</td>\n",
       "      <td>9</td>\n",
       "      <td>576</td>\n",
       "      <td>0</td>\n",
       "    </tr>\n",
       "  </tbody>\n",
       "</table>\n",
       "<p>5 rows × 23 columns</p>\n",
       "</div>"
      ],
      "text/plain": [
       "   ID  marr    wage  exper  age  coll  games  minutes  guard  forward  ...  \\\n",
       "0   1     1  1002.5      4   27     4     77     2867      1        0  ...   \n",
       "1   2     1  2030.0      5   28     4     78     2789      1        0  ...   \n",
       "2   3     0   650.0      1   25     4     74     1149      0        0  ...   \n",
       "3   4     0  2030.0      5   28     4     47     1178      0        1  ...   \n",
       "4   5     0   755.0      3   24     4     82     2096      1        0  ...   \n",
       "\n",
       "   assists  draft  allstar  avgmin  lwage  black  children  expersq  agesq  \\\n",
       "0        5   19.0        0   37.23   6.91      1         0       16    729   \n",
       "1        9   28.0        0   35.76   7.62      1         1       25    784   \n",
       "2        0   19.0        0   15.53   6.48      1         0        1    625   \n",
       "3        2    1.0        0   25.06   7.62      1         0       25    784   \n",
       "4        3   24.0        0   25.56   6.63      1         0        9    576   \n",
       "\n",
       "   marrblck  \n",
       "0         1  \n",
       "1         1  \n",
       "2         0  \n",
       "3         0  \n",
       "4         0  \n",
       "\n",
       "[5 rows x 23 columns]"
      ]
     },
     "execution_count": 2,
     "metadata": {},
     "output_type": "execute_result"
    }
   ],
   "source": [
    "file_path = r\"C:\\Users\\tomdo\\Desktop\\Stats\\econometrics\\Econometrics_Problem Set 2\\Econometrics_Problem-Set-2\\nbasal.xls\"\n",
    "df = pd.read_excel(file_path)\n",
    "df.head()"
   ]
  },
  {
   "cell_type": "markdown",
   "id": "20aa20ea-9ce6-4066-85d7-93c6b7378764",
   "metadata": {},
   "source": [
    "### Now its time to do a bit of data exploration. I start of by looking at the descriptive stats (in particular the correlation matrix which quickly allow you to test which of the variables are correclated with each other) and by visualising it using box plots, scatter plots and a chart for the correlation matrix."
   ]
  },
  {
   "cell_type": "code",
   "execution_count": 3,
   "id": "48398b2c-bcb9-400c-8f9b-b4d08a32267d",
   "metadata": {
    "tags": []
   },
   "outputs": [
    {
     "data": {
      "text/html": [
       "<div>\n",
       "<style scoped>\n",
       "    .dataframe tbody tr th:only-of-type {\n",
       "        vertical-align: middle;\n",
       "    }\n",
       "\n",
       "    .dataframe tbody tr th {\n",
       "        vertical-align: top;\n",
       "    }\n",
       "\n",
       "    .dataframe thead th {\n",
       "        text-align: right;\n",
       "    }\n",
       "</style>\n",
       "<table border=\"1\" class=\"dataframe\">\n",
       "  <thead>\n",
       "    <tr style=\"text-align: right;\">\n",
       "      <th></th>\n",
       "      <th>ID</th>\n",
       "      <th>marr</th>\n",
       "      <th>wage</th>\n",
       "      <th>exper</th>\n",
       "      <th>age</th>\n",
       "      <th>coll</th>\n",
       "      <th>games</th>\n",
       "      <th>minutes</th>\n",
       "      <th>guard</th>\n",
       "      <th>forward</th>\n",
       "      <th>...</th>\n",
       "      <th>assists</th>\n",
       "      <th>draft</th>\n",
       "      <th>allstar</th>\n",
       "      <th>avgmin</th>\n",
       "      <th>lwage</th>\n",
       "      <th>black</th>\n",
       "      <th>children</th>\n",
       "      <th>expersq</th>\n",
       "      <th>agesq</th>\n",
       "      <th>marrblck</th>\n",
       "    </tr>\n",
       "  </thead>\n",
       "  <tbody>\n",
       "    <tr>\n",
       "      <th>count</th>\n",
       "      <td>269.000000</td>\n",
       "      <td>269.000000</td>\n",
       "      <td>269.000000</td>\n",
       "      <td>269.000000</td>\n",
       "      <td>269.000000</td>\n",
       "      <td>269.000000</td>\n",
       "      <td>269.000000</td>\n",
       "      <td>269.000000</td>\n",
       "      <td>269.000000</td>\n",
       "      <td>269.000000</td>\n",
       "      <td>...</td>\n",
       "      <td>269.000000</td>\n",
       "      <td>240.00000</td>\n",
       "      <td>269.000000</td>\n",
       "      <td>269.000000</td>\n",
       "      <td>269.000000</td>\n",
       "      <td>269.000000</td>\n",
       "      <td>269.000000</td>\n",
       "      <td>269.000000</td>\n",
       "      <td>269.000000</td>\n",
       "      <td>269.00000</td>\n",
       "    </tr>\n",
       "    <tr>\n",
       "      <th>mean</th>\n",
       "      <td>135.000000</td>\n",
       "      <td>0.442379</td>\n",
       "      <td>1423.827509</td>\n",
       "      <td>5.118959</td>\n",
       "      <td>27.394052</td>\n",
       "      <td>3.717472</td>\n",
       "      <td>65.724907</td>\n",
       "      <td>1682.193309</td>\n",
       "      <td>0.420074</td>\n",
       "      <td>0.408922</td>\n",
       "      <td>...</td>\n",
       "      <td>2.453532</td>\n",
       "      <td>20.20000</td>\n",
       "      <td>0.115242</td>\n",
       "      <td>23.979257</td>\n",
       "      <td>6.952379</td>\n",
       "      <td>0.806691</td>\n",
       "      <td>0.345725</td>\n",
       "      <td>37.721190</td>\n",
       "      <td>761.892193</td>\n",
       "      <td>0.33829</td>\n",
       "    </tr>\n",
       "    <tr>\n",
       "      <th>std</th>\n",
       "      <td>77.797815</td>\n",
       "      <td>0.497595</td>\n",
       "      <td>999.774074</td>\n",
       "      <td>3.400062</td>\n",
       "      <td>3.391292</td>\n",
       "      <td>0.754410</td>\n",
       "      <td>18.851110</td>\n",
       "      <td>893.327771</td>\n",
       "      <td>0.494491</td>\n",
       "      <td>0.492551</td>\n",
       "      <td>...</td>\n",
       "      <td>2.148124</td>\n",
       "      <td>18.73582</td>\n",
       "      <td>0.319909</td>\n",
       "      <td>9.731086</td>\n",
       "      <td>0.881428</td>\n",
       "      <td>0.395629</td>\n",
       "      <td>0.476491</td>\n",
       "      <td>46.537021</td>\n",
       "      <td>195.149406</td>\n",
       "      <td>0.47401</td>\n",
       "    </tr>\n",
       "    <tr>\n",
       "      <th>min</th>\n",
       "      <td>1.000000</td>\n",
       "      <td>0.000000</td>\n",
       "      <td>150.000000</td>\n",
       "      <td>1.000000</td>\n",
       "      <td>21.000000</td>\n",
       "      <td>0.000000</td>\n",
       "      <td>3.000000</td>\n",
       "      <td>33.000000</td>\n",
       "      <td>0.000000</td>\n",
       "      <td>0.000000</td>\n",
       "      <td>...</td>\n",
       "      <td>0.000000</td>\n",
       "      <td>1.00000</td>\n",
       "      <td>0.000000</td>\n",
       "      <td>2.890000</td>\n",
       "      <td>5.010000</td>\n",
       "      <td>0.000000</td>\n",
       "      <td>0.000000</td>\n",
       "      <td>1.000000</td>\n",
       "      <td>441.000000</td>\n",
       "      <td>0.00000</td>\n",
       "    </tr>\n",
       "    <tr>\n",
       "      <th>25%</th>\n",
       "      <td>68.000000</td>\n",
       "      <td>0.000000</td>\n",
       "      <td>650.000000</td>\n",
       "      <td>2.000000</td>\n",
       "      <td>25.000000</td>\n",
       "      <td>4.000000</td>\n",
       "      <td>57.000000</td>\n",
       "      <td>983.000000</td>\n",
       "      <td>0.000000</td>\n",
       "      <td>0.000000</td>\n",
       "      <td>...</td>\n",
       "      <td>1.000000</td>\n",
       "      <td>7.00000</td>\n",
       "      <td>0.000000</td>\n",
       "      <td>16.730000</td>\n",
       "      <td>6.480000</td>\n",
       "      <td>1.000000</td>\n",
       "      <td>0.000000</td>\n",
       "      <td>4.000000</td>\n",
       "      <td>625.000000</td>\n",
       "      <td>0.00000</td>\n",
       "    </tr>\n",
       "    <tr>\n",
       "      <th>50%</th>\n",
       "      <td>135.000000</td>\n",
       "      <td>0.000000</td>\n",
       "      <td>1186.000000</td>\n",
       "      <td>4.000000</td>\n",
       "      <td>27.000000</td>\n",
       "      <td>4.000000</td>\n",
       "      <td>74.000000</td>\n",
       "      <td>1690.000000</td>\n",
       "      <td>0.000000</td>\n",
       "      <td>0.000000</td>\n",
       "      <td>...</td>\n",
       "      <td>2.000000</td>\n",
       "      <td>14.50000</td>\n",
       "      <td>0.000000</td>\n",
       "      <td>24.820000</td>\n",
       "      <td>7.080000</td>\n",
       "      <td>1.000000</td>\n",
       "      <td>0.000000</td>\n",
       "      <td>16.000000</td>\n",
       "      <td>729.000000</td>\n",
       "      <td>0.00000</td>\n",
       "    </tr>\n",
       "    <tr>\n",
       "      <th>75%</th>\n",
       "      <td>202.000000</td>\n",
       "      <td>1.000000</td>\n",
       "      <td>2014.500000</td>\n",
       "      <td>7.000000</td>\n",
       "      <td>30.000000</td>\n",
       "      <td>4.000000</td>\n",
       "      <td>79.000000</td>\n",
       "      <td>2438.000000</td>\n",
       "      <td>1.000000</td>\n",
       "      <td>1.000000</td>\n",
       "      <td>...</td>\n",
       "      <td>3.000000</td>\n",
       "      <td>28.25000</td>\n",
       "      <td>0.000000</td>\n",
       "      <td>33.260000</td>\n",
       "      <td>7.610000</td>\n",
       "      <td>1.000000</td>\n",
       "      <td>1.000000</td>\n",
       "      <td>49.000000</td>\n",
       "      <td>900.000000</td>\n",
       "      <td>1.00000</td>\n",
       "    </tr>\n",
       "    <tr>\n",
       "      <th>max</th>\n",
       "      <td>269.000000</td>\n",
       "      <td>1.000000</td>\n",
       "      <td>5740.000000</td>\n",
       "      <td>18.000000</td>\n",
       "      <td>41.000000</td>\n",
       "      <td>4.000000</td>\n",
       "      <td>82.000000</td>\n",
       "      <td>3533.000000</td>\n",
       "      <td>1.000000</td>\n",
       "      <td>1.000000</td>\n",
       "      <td>...</td>\n",
       "      <td>13.000000</td>\n",
       "      <td>139.00000</td>\n",
       "      <td>1.000000</td>\n",
       "      <td>43.090000</td>\n",
       "      <td>8.660000</td>\n",
       "      <td>1.000000</td>\n",
       "      <td>1.000000</td>\n",
       "      <td>324.000000</td>\n",
       "      <td>1681.000000</td>\n",
       "      <td>1.00000</td>\n",
       "    </tr>\n",
       "  </tbody>\n",
       "</table>\n",
       "<p>8 rows × 23 columns</p>\n",
       "</div>"
      ],
      "text/plain": [
       "               ID        marr         wage       exper         age  \\\n",
       "count  269.000000  269.000000   269.000000  269.000000  269.000000   \n",
       "mean   135.000000    0.442379  1423.827509    5.118959   27.394052   \n",
       "std     77.797815    0.497595   999.774074    3.400062    3.391292   \n",
       "min      1.000000    0.000000   150.000000    1.000000   21.000000   \n",
       "25%     68.000000    0.000000   650.000000    2.000000   25.000000   \n",
       "50%    135.000000    0.000000  1186.000000    4.000000   27.000000   \n",
       "75%    202.000000    1.000000  2014.500000    7.000000   30.000000   \n",
       "max    269.000000    1.000000  5740.000000   18.000000   41.000000   \n",
       "\n",
       "             coll       games      minutes       guard     forward  ...  \\\n",
       "count  269.000000  269.000000   269.000000  269.000000  269.000000  ...   \n",
       "mean     3.717472   65.724907  1682.193309    0.420074    0.408922  ...   \n",
       "std      0.754410   18.851110   893.327771    0.494491    0.492551  ...   \n",
       "min      0.000000    3.000000    33.000000    0.000000    0.000000  ...   \n",
       "25%      4.000000   57.000000   983.000000    0.000000    0.000000  ...   \n",
       "50%      4.000000   74.000000  1690.000000    0.000000    0.000000  ...   \n",
       "75%      4.000000   79.000000  2438.000000    1.000000    1.000000  ...   \n",
       "max      4.000000   82.000000  3533.000000    1.000000    1.000000  ...   \n",
       "\n",
       "          assists      draft     allstar      avgmin       lwage       black  \\\n",
       "count  269.000000  240.00000  269.000000  269.000000  269.000000  269.000000   \n",
       "mean     2.453532   20.20000    0.115242   23.979257    6.952379    0.806691   \n",
       "std      2.148124   18.73582    0.319909    9.731086    0.881428    0.395629   \n",
       "min      0.000000    1.00000    0.000000    2.890000    5.010000    0.000000   \n",
       "25%      1.000000    7.00000    0.000000   16.730000    6.480000    1.000000   \n",
       "50%      2.000000   14.50000    0.000000   24.820000    7.080000    1.000000   \n",
       "75%      3.000000   28.25000    0.000000   33.260000    7.610000    1.000000   \n",
       "max     13.000000  139.00000    1.000000   43.090000    8.660000    1.000000   \n",
       "\n",
       "         children     expersq        agesq   marrblck  \n",
       "count  269.000000  269.000000   269.000000  269.00000  \n",
       "mean     0.345725   37.721190   761.892193    0.33829  \n",
       "std      0.476491   46.537021   195.149406    0.47401  \n",
       "min      0.000000    1.000000   441.000000    0.00000  \n",
       "25%      0.000000    4.000000   625.000000    0.00000  \n",
       "50%      0.000000   16.000000   729.000000    0.00000  \n",
       "75%      1.000000   49.000000   900.000000    1.00000  \n",
       "max      1.000000  324.000000  1681.000000    1.00000  \n",
       "\n",
       "[8 rows x 23 columns]"
      ]
     },
     "execution_count": 3,
     "metadata": {},
     "output_type": "execute_result"
    }
   ],
   "source": [
    "df.describe()"
   ]
  },
  {
   "cell_type": "code",
   "execution_count": 4,
   "id": "a5694cec-e41f-46ed-8143-208c06a801b1",
   "metadata": {
    "tags": []
   },
   "outputs": [
    {
     "data": {
      "image/png": "[encoded data removed]",
      "text/plain": [
       "<Figure size 500x500 with 1 Axes>"
      ]
     },
     "metadata": {},
     "output_type": "display_data"
    }
   ],
   "source": [
    "plt.figure(figsize=(5,5)) \n",
    "data = df[\"wage\"]\n",
    "plt.boxplot(data)\n",
    "plt.ylabel(\"Wages\")\n",
    "plt.show()"
   ]
  },
  {
   "cell_type": "code",
   "execution_count": 5,
   "id": "139c024f-9a37-433c-a320-b904cc7fc196",
   "metadata": {
    "tags": []
   },
   "outputs": [
    {
     "name": "stdout",
     "output_type": "stream",
     "text": [
      "                ID      marr      wage     exper       age      coll  \\\n",
      "ID        1.000000  0.059375  0.015450  0.081858  0.087600  0.028609   \n",
      "marr      0.059375  1.000000  0.158117  0.328272  0.367295 -0.043529   \n",
      "wage      0.015450  0.158117  1.000000  0.409176  0.342444 -0.105632   \n",
      "exper     0.081858  0.328272  0.409176  1.000000  0.941165  0.087341   \n",
      "age       0.087600  0.367295  0.342444  0.941165  1.000000  0.074305   \n",
      "coll      0.028609 -0.043529 -0.105632  0.087341  0.074305  1.000000   \n",
      "games    -0.028050  0.069110  0.303766  0.148206  0.126373 -0.014931   \n",
      "minutes  -0.004794  0.105087  0.563374  0.214265  0.147060 -0.068114   \n",
      "guard    -0.065082  0.030498 -0.124664 -0.052026 -0.065701  0.069272   \n",
      "forward   0.078192 -0.025298  0.051110 -0.000191  0.005929 -0.049425   \n",
      "center   -0.016784 -0.006947  0.096684  0.068450  0.078386 -0.026273   \n",
      "points   -0.033796  0.123694  0.657027  0.190789  0.104821 -0.120423   \n",
      "rebounds -0.007444 -0.033022  0.540872  0.163501  0.116512 -0.115234   \n",
      "assists  -0.004443  0.160683  0.328193  0.149937  0.078329 -0.033459   \n",
      "draft     0.007690  0.026722 -0.362531  0.024640  0.116435  0.101587   \n",
      "allstar  -0.006747  0.053590  0.397333  0.079972  0.002698 -0.081040   \n",
      "avgmin   -0.034066  0.109848  0.621789  0.223429  0.141068 -0.063192   \n",
      "lwage     0.034900  0.147834  0.893839  0.405622  0.317785 -0.055885   \n",
      "black    -0.112138 -0.094700  0.076822 -0.005032 -0.054257  0.028861   \n",
      "children  0.099248  0.281052  0.165735  0.204836  0.192472 -0.080186   \n",
      "expersq   0.062321  0.288300  0.345839  0.950327  0.904639  0.048870   \n",
      "agesq     0.081555  0.357391  0.339300  0.942128  0.996847  0.068959   \n",
      "marrblck  0.026814  0.802755  0.151423  0.231926  0.244054  0.007409   \n",
      "\n",
      "             games   minutes     guard   forward  ...   assists     draft  \\\n",
      "ID       -0.028050 -0.004794 -0.065082  0.078192  ... -0.004443  0.007690   \n",
      "marr      0.069110  0.105087  0.030498 -0.025298  ...  0.160683  0.026722   \n",
      "wage      0.303766  0.563374 -0.124664  0.051110  ...  0.328193 -0.362531   \n",
      "exper     0.148206  0.214265 -0.052026 -0.000191  ...  0.149937  0.024640   \n",
      "age       0.126373  0.147060 -0.065701  0.005929  ...  0.078329  0.116435   \n",
      "coll     -0.014931 -0.068114  0.069272 -0.049425  ... -0.033459  0.101587   \n",
      "games     1.000000  0.787798  0.118119  0.018590  ...  0.356190 -0.115478   \n",
      "minutes   0.787798  1.000000  0.118393  0.032595  ...  0.599745 -0.232573   \n",
      "guard     0.118119  0.118393  1.000000 -0.707905  ...  0.508475  0.148719   \n",
      "forward   0.018590  0.032595 -0.707905  1.000000  ... -0.292313 -0.153223   \n",
      "center   -0.179116 -0.197763 -0.386548 -0.377767  ... -0.284869  0.004881   \n",
      "points    0.500633  0.839244  0.100818  0.000484  ...  0.539269 -0.322815   \n",
      "rebounds  0.332772  0.585174 -0.479748  0.367849  ...  0.059956 -0.299528   \n",
      "assists   0.356190  0.599745  0.508475 -0.292313  ...  1.000000 -0.063131   \n",
      "draft    -0.115478 -0.232573  0.148719 -0.153223  ... -0.063131  1.000000   \n",
      "allstar   0.184709  0.424665  0.023061 -0.016022  ...  0.379760 -0.231371   \n",
      "avgmin    0.580861  0.935259  0.104966  0.037743  ...  0.632747 -0.267640   \n",
      "lwage     0.369689  0.591525 -0.085942  0.098394  ...  0.361425 -0.402191   \n",
      "black     0.103912  0.140153  0.054241  0.100794  ...  0.024515 -0.081765   \n",
      "children  0.081247  0.174180 -0.001060  0.031324  ...  0.185268 -0.051769   \n",
      "expersq   0.093456  0.127756 -0.065750 -0.011774  ...  0.067709  0.007566   \n",
      "agesq     0.118136  0.135074 -0.070444  0.002013  ...  0.064640  0.108412   \n",
      "marrblck  0.082695  0.115139  0.060067  0.012595  ...  0.123600 -0.031671   \n",
      "\n",
      "           allstar    avgmin     lwage     black  children   expersq  \\\n",
      "ID       -0.006747 -0.034066  0.034900 -0.112138  0.099248  0.062321   \n",
      "marr      0.053590  0.109848  0.147834 -0.094700  0.281052  0.288300   \n",
      "wage      0.397333  0.621789  0.893839  0.076822  0.165735  0.345839   \n",
      "exper     0.079972  0.223429  0.405622 -0.005032  0.204836  0.950327   \n",
      "age       0.002698  0.141068  0.317785 -0.054257  0.192472  0.904639   \n",
      "coll     -0.081040 -0.063192 -0.055885  0.028861 -0.080186  0.048870   \n",
      "games     0.184709  0.580861  0.369689  0.103912  0.081247  0.093456   \n",
      "minutes   0.424665  0.935259  0.591525  0.140153  0.174180  0.127756   \n",
      "guard     0.023061  0.104966 -0.085942  0.054241 -0.001060 -0.065750   \n",
      "forward  -0.016022  0.037743  0.098394  0.100794  0.031324 -0.011774   \n",
      "center   -0.009311 -0.186883 -0.015818 -0.202718 -0.039513  0.101566   \n",
      "points    0.608586  0.887020  0.619378  0.116290  0.175454  0.122571   \n",
      "rebounds  0.332537  0.635099  0.488215  0.121787  0.141944  0.116436   \n",
      "assists   0.379760  0.632747  0.361425  0.024515  0.185268  0.067709   \n",
      "draft    -0.231371 -0.267640 -0.402191 -0.081765 -0.051769  0.007566   \n",
      "allstar   1.000000  0.453606  0.295439  0.058744  0.080351  0.058810   \n",
      "avgmin    0.453606  1.000000  0.640697  0.136049  0.194583  0.129335   \n",
      "lwage     0.295439  0.640697  1.000000  0.120310  0.188781  0.317543   \n",
      "black     0.058744  0.136049  0.120310  1.000000  0.019352 -0.005776   \n",
      "children  0.080351  0.194583  0.188781  0.019352  1.000000  0.158332   \n",
      "expersq   0.058810  0.129335  0.317543 -0.005776  0.158332  1.000000   \n",
      "agesq     0.005220  0.128626  0.310771 -0.049470  0.183906  0.926941   \n",
      "marrblck  0.037230  0.121461  0.129260  0.350012  0.223672  0.203554   \n",
      "\n",
      "             agesq  marrblck  \n",
      "ID        0.081555  0.026814  \n",
      "marr      0.357391  0.802755  \n",
      "wage      0.339300  0.151423  \n",
      "exper     0.942128  0.231926  \n",
      "age       0.996847  0.244054  \n",
      "coll      0.068959  0.007409  \n",
      "games     0.118136  0.082695  \n",
      "minutes   0.135074  0.115139  \n",
      "guard    -0.070444  0.060067  \n",
      "forward   0.002013  0.012595  \n",
      "center    0.089717 -0.095188  \n",
      "points    0.097771  0.134247  \n",
      "rebounds  0.111799 -0.007141  \n",
      "assists   0.064640  0.123600  \n",
      "draft     0.108412 -0.031671  \n",
      "allstar   0.005220  0.037230  \n",
      "avgmin    0.128626  0.121461  \n",
      "lwage     0.310771  0.129260  \n",
      "black    -0.049470  0.350012  \n",
      "children  0.183906  0.223672  \n",
      "expersq   0.926941  0.203554  \n",
      "agesq     1.000000  0.237985  \n",
      "marrblck  0.237985  1.000000  \n",
      "\n",
      "[23 rows x 23 columns]\n"
     ]
    }
   ],
   "source": [
    "corr_matrix = df.corr()\n",
    "print(corr_matrix)"
   ]
  },
  {
   "cell_type": "markdown",
   "id": "25013ffc-b2fd-4694-be95-08ff76f468ec",
   "metadata": {},
   "source": [
    "### Now that is a biig correlation matrix which is quite difficult to read. So i the next few cells i have looked to see if i can make it a bit more readable. Firstly i do a nested for loop to iterate through each column of the correlation matrix and then if the correlation is greater than a certain amount i print out the variable names and the correlation of it."
   ]
  },
  {
   "cell_type": "code",
   "execution_count": 6,
   "id": "ff8b23ba-e18f-4ae4-95d8-a0243117f975",
   "metadata": {
    "tags": []
   },
   "outputs": [
    {
     "data": {
      "text/plain": [
       "pandas.core.frame.DataFrame"
      ]
     },
     "execution_count": 6,
     "metadata": {},
     "output_type": "execute_result"
    }
   ],
   "source": [
    "type(corr_matrix)"
   ]
  },
  {
   "cell_type": "code",
   "execution_count": 7,
   "id": "1c3a2354-583e-4173-87ad-4e8225c6881e",
   "metadata": {
    "tags": []
   },
   "outputs": [
    {
     "name": "stdout",
     "output_type": "stream",
     "text": [
      "Columns 'marr' and 'age' have a correlation of 0.36729457848626224\n",
      "Columns 'marr' and 'agesq' have a correlation of 0.3573913682191796\n",
      "Columns 'marr' and 'marrblck' have a correlation of 0.8027546757251224\n",
      "Columns 'wage' and 'exper' have a correlation of 0.4091764023483812\n",
      "Columns 'wage' and 'minutes' have a correlation of 0.5633736813209487\n",
      "Columns 'wage' and 'points' have a correlation of 0.6570265226341696\n",
      "Columns 'wage' and 'rebounds' have a correlation of 0.540871514054682\n",
      "Columns 'wage' and 'draft' have a correlation of -0.36253089676220024\n",
      "Columns 'wage' and 'allstar' have a correlation of 0.3973330947682341\n",
      "Columns 'wage' and 'avgmin' have a correlation of 0.6217885393400762\n",
      "Columns 'wage' and 'lwage' have a correlation of 0.8938394249339148\n",
      "Columns 'exper' and 'age' have a correlation of 0.941165244761515\n",
      "Columns 'exper' and 'lwage' have a correlation of 0.40562163101967924\n",
      "Columns 'exper' and 'expersq' have a correlation of 0.9503272713234403\n",
      "Columns 'exper' and 'agesq' have a correlation of 0.9421283079929575\n",
      "Columns 'age' and 'expersq' have a correlation of 0.904639233274621\n",
      "Columns 'age' and 'agesq' have a correlation of 0.9968467719220421\n",
      "Columns 'games' and 'minutes' have a correlation of 0.7877979932407476\n",
      "Columns 'games' and 'points' have a correlation of 0.5006327136114974\n",
      "Columns 'games' and 'assists' have a correlation of 0.3561898066391285\n",
      "Columns 'games' and 'avgmin' have a correlation of 0.5808613422600452\n",
      "Columns 'games' and 'lwage' have a correlation of 0.36968873637901056\n",
      "Columns 'minutes' and 'points' have a correlation of 0.8392437935186313\n",
      "Columns 'minutes' and 'rebounds' have a correlation of 0.5851741751078372\n",
      "Columns 'minutes' and 'assists' have a correlation of 0.5997445162161901\n",
      "Columns 'minutes' and 'allstar' have a correlation of 0.42466452852363057\n",
      "Columns 'minutes' and 'avgmin' have a correlation of 0.9352593799166556\n",
      "Columns 'minutes' and 'lwage' have a correlation of 0.5915254959528744\n",
      "Columns 'guard' and 'forward' have a correlation of -0.7079045487814396\n",
      "Columns 'guard' and 'center' have a correlation of -0.3865479789137428\n",
      "Columns 'guard' and 'rebounds' have a correlation of -0.47974765479355413\n",
      "Columns 'guard' and 'assists' have a correlation of 0.5084745460275423\n",
      "Columns 'forward' and 'center' have a correlation of -0.37776721526432283\n",
      "Columns 'forward' and 'rebounds' have a correlation of 0.3678493768103604\n",
      "Columns 'points' and 'rebounds' have a correlation of 0.5633244348519245\n",
      "Columns 'points' and 'assists' have a correlation of 0.539269219350105\n",
      "Columns 'points' and 'allstar' have a correlation of 0.6085860911006347\n",
      "Columns 'points' and 'avgmin' have a correlation of 0.8870204699156884\n",
      "Columns 'points' and 'lwage' have a correlation of 0.6193778960393926\n",
      "Columns 'rebounds' and 'avgmin' have a correlation of 0.6350985912865748\n",
      "Columns 'rebounds' and 'lwage' have a correlation of 0.48821526627302836\n",
      "Columns 'assists' and 'allstar' have a correlation of 0.37975973147636005\n",
      "Columns 'assists' and 'avgmin' have a correlation of 0.632747181496698\n",
      "Columns 'assists' and 'lwage' have a correlation of 0.36142462780102974\n",
      "Columns 'draft' and 'lwage' have a correlation of -0.40219069875581687\n",
      "Columns 'allstar' and 'avgmin' have a correlation of 0.45360583321672593\n",
      "Columns 'avgmin' and 'lwage' have a correlation of 0.6406966717477444\n",
      "Columns 'black' and 'marrblck' have a correlation of 0.350011649989925\n",
      "Columns 'expersq' and 'agesq' have a correlation of 0.9269406835672225\n"
     ]
    }
   ],
   "source": [
    "threshold = 0.35\n",
    "for i in range(len(corr_matrix.columns)):\n",
    "    for j in range(i + 1, len(corr_matrix.columns)):\n",
    "        correlation_value = corr_matrix.iloc[i, j]\n",
    "        \n",
    "        if abs(correlation_value) > threshold:\n",
    "            print(f\"Columns '{corr_matrix.columns[i]}' and '{corr_matrix.columns[j]}' have a correlation of {correlation_value}\")\n"
   ]
  },
  {
   "cell_type": "markdown",
   "id": "aad47bb3-0fb6-4138-8686-1d101fca439c",
   "metadata": {},
   "source": [
    "### Having found that quite difficult to follow too i did some googling and found seaborn does a good visual of the correlation matrix so below i produce that and that allows me to see there are some strong correlations between variables such as age and experience and points and mins. In particular for our analysis on wages variables like points, experience and minuites are correlated with the wage."
   ]
  },
  {
   "cell_type": "code",
   "execution_count": 8,
   "id": "9d3d2c02-4e8e-4160-836c-9788987342d8",
   "metadata": {
    "tags": []
   },
   "outputs": [
    {
     "data": {
      "text/plain": [
       "<Axes: >"
      ]
     },
     "execution_count": 8,
     "metadata": {},
     "output_type": "execute_result"
    },
    {
     "data": {
      "image/png": "[encoded data removed]",
      "text/plain": [
       "<Figure size 1100x900 with 2 Axes>"
      ]
     },
     "metadata": {},
     "output_type": "display_data"
    }
   ],
   "source": [
    "mask = np.triu(np.ones_like(corr_matrix, dtype=bool))\n",
    "\n",
    "# Set up the matplotlib figure\n",
    "f, ax = plt.subplots(figsize=(11, 9))\n",
    "\n",
    "# Generate a custom diverging colormap\n",
    "cmap = sns.diverging_palette(230, 20, as_cmap=True)\n",
    "\n",
    "# Draw the heatmap with the mask and correct aspect ratio\n",
    "sns.heatmap(corr_matrix, mask=mask, cmap=cmap, vmax=1, center=0,\n",
    "            square=True, linewidths=.5, cbar_kws={\"shrink\": .5})"
   ]
  },
  {
   "cell_type": "code",
   "execution_count": 9,
   "id": "8341d607-dd42-49d4-b9d6-179d2ad90b38",
   "metadata": {
    "tags": []
   },
   "outputs": [
    {
     "data": {
      "text/plain": [
       "<Axes: xlabel='exper', ylabel='wage'>"
      ]
     },
     "execution_count": 9,
     "metadata": {},
     "output_type": "execute_result"
    },
    {
     "data": {
      "image/png": "[encoded data removed]",
      "text/plain": [
       "<Figure size 640x480 with 1 Axes>"
      ]
     },
     "metadata": {},
     "output_type": "display_data"
    }
   ],
   "source": [
    "sns.regplot(x=df[\"exper\"],y=df[\"wage\"],data=df)"
   ]
  },
  {
   "cell_type": "markdown",
   "id": "f5127adb-b139-4e18-a705-5b534ef0460d",
   "metadata": {},
   "source": [
    "### Now were going to have a look at some simple bi variate regression models and interpret their results. First we look at the effect of experience on wages."
   ]
  },
  {
   "cell_type": "code",
   "execution_count": 10,
   "id": "9316c35b-782d-4977-9abc-43e3ce446c21",
   "metadata": {
    "tags": []
   },
   "outputs": [],
   "source": [
    "x, y = df[\"exper\"], df[\"wage\"]"
   ]
  },
  {
   "cell_type": "code",
   "execution_count": 11,
   "id": "25270303-8e8b-4dd4-a58d-64d2e3919d29",
   "metadata": {
    "tags": []
   },
   "outputs": [],
   "source": [
    "x = sm.add_constant(x)"
   ]
  },
  {
   "cell_type": "code",
   "execution_count": 12,
   "id": "a42ef45e-9249-453e-8864-46cff7c7bbaf",
   "metadata": {
    "tags": []
   },
   "outputs": [],
   "source": [
    "model = sm.OLS(y, x)"
   ]
  },
  {
   "cell_type": "code",
   "execution_count": 13,
   "id": "abc20ac6-ec23-49f5-8520-f57081e504d8",
   "metadata": {
    "tags": []
   },
   "outputs": [],
   "source": [
    "results = model.fit()"
   ]
  },
  {
   "cell_type": "code",
   "execution_count": 14,
   "id": "f45dc8f7-780b-42e4-bdf5-35809faeaa91",
   "metadata": {
    "tags": []
   },
   "outputs": [
    {
     "name": "stdout",
     "output_type": "stream",
     "text": [
      "                            OLS Regression Results                            \n",
      "==============================================================================\n",
      "Dep. Variable:                   wage   R-squared:                       0.167\n",
      "Model:                            OLS   Adj. R-squared:                  0.164\n",
      "Method:                 Least Squares   F-statistic:                     53.69\n",
      "Date:                Fri, 01 Dec 2023   Prob (F-statistic):           2.79e-12\n",
      "Time:                        12:58:11   Log-Likelihood:                -2214.7\n",
      "No. Observations:                 269   AIC:                             4433.\n",
      "Df Residuals:                     267   BIC:                             4441.\n",
      "Df Model:                           1                                         \n",
      "Covariance Type:            nonrobust                                         \n",
      "==============================================================================\n",
      "                 coef    std err          t      P>|t|      [0.025      0.975]\n",
      "------------------------------------------------------------------------------\n",
      "const        807.9317    100.847      8.011      0.000     609.375    1006.489\n",
      "exper        120.3166     16.420      7.327      0.000      87.988     152.646\n",
      "==============================================================================\n",
      "Omnibus:                       49.179   Durbin-Watson:                   2.056\n",
      "Prob(Omnibus):                  0.000   Jarque-Bera (JB):               86.742\n",
      "Skew:                           0.990   Prob(JB):                     1.46e-19\n",
      "Kurtosis:                       4.954   Cond. No.                         11.3\n",
      "==============================================================================\n",
      "\n",
      "Notes:\n",
      "[1] Standard Errors assume that the covariance matrix of the errors is correctly specified.\n"
     ]
    }
   ],
   "source": [
    "print(results.summary())"
   ]
  },
  {
   "cell_type": "markdown",
   "id": "7a3bb16d-ab6a-4e6e-8d22-79af1b9fe791",
   "metadata": {},
   "source": [
    "### Here we can see that an extra year of experience will increase the wage by 120. However there are likely to be a number of other variables that also have an impact on wages. Similarly to experience is age. Lets see how that impacts on wages."
   ]
  },
  {
   "cell_type": "code",
   "execution_count": 15,
   "id": "5cd318a8-c12f-4563-a0ad-c37ce75d56d1",
   "metadata": {},
   "outputs": [],
   "source": [
    "x, y = df[\"age\"], df[\"wage\"]"
   ]
  },
  {
   "cell_type": "code",
   "execution_count": 16,
   "id": "3fd9a0be-d1ee-470d-9d83-c73129f42af5",
   "metadata": {
    "tags": []
   },
   "outputs": [],
   "source": [
    "x = sm.add_constant(x)"
   ]
  },
  {
   "cell_type": "code",
   "execution_count": 17,
   "id": "55d3c6e5-d82e-4bf4-a455-38394877ce6f",
   "metadata": {
    "tags": []
   },
   "outputs": [],
   "source": [
    "model = sm.OLS(y, x)"
   ]
  },
  {
   "cell_type": "code",
   "execution_count": 18,
   "id": "d4139eb9-ca8d-4475-b304-504cdada522e",
   "metadata": {
    "tags": []
   },
   "outputs": [],
   "source": [
    "results = model.fit()"
   ]
  },
  {
   "cell_type": "code",
   "execution_count": 19,
   "id": "b2eedac6-f33d-43be-a0f0-326bda45b89d",
   "metadata": {
    "tags": []
   },
   "outputs": [
    {
     "name": "stdout",
     "output_type": "stream",
     "text": [
      "                            OLS Regression Results                            \n",
      "==============================================================================\n",
      "Dep. Variable:                   wage   R-squared:                       0.117\n",
      "Model:                            OLS   Adj. R-squared:                  0.114\n",
      "Method:                 Least Squares   F-statistic:                     35.47\n",
      "Date:                Fri, 01 Dec 2023   Prob (F-statistic):           8.14e-09\n",
      "Time:                        12:58:11   Log-Likelihood:                -2222.5\n",
      "No. Observations:                 269   AIC:                             4449.\n",
      "Df Residuals:                     267   BIC:                             4456.\n",
      "Df Model:                           1                                         \n",
      "Covariance Type:            nonrobust                                         \n",
      "==============================================================================\n",
      "                 coef    std err          t      P>|t|      [0.025      0.975]\n",
      "------------------------------------------------------------------------------\n",
      "const      -1341.7284    467.888     -2.868      0.004   -2262.949    -420.508\n",
      "age          100.9546     16.951      5.956      0.000      67.580     134.329\n",
      "==============================================================================\n",
      "Omnibus:                       39.474   Durbin-Watson:                   2.059\n",
      "Prob(Omnibus):                  0.000   Jarque-Bera (JB):               56.176\n",
      "Skew:                           0.921   Prob(JB):                     6.33e-13\n",
      "Kurtosis:                       4.274   Cond. No.                         225.\n",
      "==============================================================================\n",
      "\n",
      "Notes:\n",
      "[1] Standard Errors assume that the covariance matrix of the errors is correctly specified.\n"
     ]
    }
   ],
   "source": [
    "print(results.summary())"
   ]
  },
  {
   "cell_type": "code",
   "execution_count": 20,
   "id": "be5817c9-4e71-4ca0-85e9-20787f92ce91",
   "metadata": {
    "tags": []
   },
   "outputs": [
    {
     "name": "stderr",
     "output_type": "stream",
     "text": [
      "C:\\Users\\tomdo\\AppData\\Local\\Temp\\ipykernel_16144\\3534265507.py:1: FutureWarning: Series.__getitem__ treating keys as positions is deprecated. In a future version, integer keys will always be treated as labels (consistent with DataFrame behavior). To access a value by position, use `ser.iloc[pos]`\n",
      "  intercept = results.params[0]\n",
      "C:\\Users\\tomdo\\AppData\\Local\\Temp\\ipykernel_16144\\3534265507.py:2: FutureWarning: Series.__getitem__ treating keys as positions is deprecated. In a future version, integer keys will always be treated as labels (consistent with DataFrame behavior). To access a value by position, use `ser.iloc[pos]`\n",
      "  coeef = results.params[1]\n"
     ]
    },
    {
     "data": {
      "text/plain": [
       "7744.186724117136"
      ]
     },
     "execution_count": 20,
     "metadata": {},
     "output_type": "execute_result"
    }
   ],
   "source": [
    "intercept = results.params[0]\n",
    "coeef = results.params[1]\n",
    "\n",
    "age = 90\n",
    "\n",
    "exp_wage = intercept + (coeef*age)\n",
    "exp_wage"
   ]
  },
  {
   "cell_type": "markdown",
   "id": "184caa97-b0ec-43e8-bed9-5c5eadb37b25",
   "metadata": {},
   "source": [
    "### Above i have used the regression results to try and estimate what the wage of someone who is 90 would be. The results are nearly 8,000. Obviously that is nonsense and demonstrates the risks of making predictions about data outside of the sample range. Lets see what the results are when we include both age and experience as independant variables."
   ]
  },
  {
   "cell_type": "code",
   "execution_count": 21,
   "id": "e44bc2fd-fc1b-44cf-9e9e-ae4e20657b10",
   "metadata": {
    "tags": []
   },
   "outputs": [],
   "source": [
    "x, y = df[[\"age\",\"exper\"]], df[\"wage\"]"
   ]
  },
  {
   "cell_type": "code",
   "execution_count": 22,
   "id": "a00416d3-fd47-46fe-8631-eead51f9a5d1",
   "metadata": {
    "tags": []
   },
   "outputs": [],
   "source": [
    "x = sm.add_constant(x)"
   ]
  },
  {
   "cell_type": "code",
   "execution_count": 23,
   "id": "06ee4149-6b48-4a60-90d5-2fe3589b66d7",
   "metadata": {
    "tags": []
   },
   "outputs": [],
   "source": [
    "model = sm.OLS(y, x)"
   ]
  },
  {
   "cell_type": "code",
   "execution_count": 24,
   "id": "dc288eb7-9557-4d43-89fa-316ebfdc943f",
   "metadata": {
    "tags": []
   },
   "outputs": [],
   "source": [
    "results = model.fit()"
   ]
  },
  {
   "cell_type": "code",
   "execution_count": 25,
   "id": "dfb41eea-d03c-482b-8b33-b113b7854930",
   "metadata": {
    "tags": []
   },
   "outputs": [
    {
     "data": {
      "text/html": [
       "<table class=\"simpletable\">\n",
       "<caption>OLS Regression Results</caption>\n",
       "<tr>\n",
       "  <th>Dep. Variable:</th>          <td>wage</td>       <th>  R-squared:         </th> <td>   0.183</td>\n",
       "</tr>\n",
       "<tr>\n",
       "  <th>Model:</th>                   <td>OLS</td>       <th>  Adj. R-squared:    </th> <td>   0.177</td>\n",
       "</tr>\n",
       "<tr>\n",
       "  <th>Method:</th>             <td>Least Squares</td>  <th>  F-statistic:       </th> <td>   29.86</td>\n",
       "</tr>\n",
       "<tr>\n",
       "  <th>Date:</th>             <td>Fri, 01 Dec 2023</td> <th>  Prob (F-statistic):</th> <td>2.00e-12</td>\n",
       "</tr>\n",
       "<tr>\n",
       "  <th>Time:</th>                 <td>12:58:11</td>     <th>  Log-Likelihood:    </th> <td> -2212.1</td>\n",
       "</tr>\n",
       "<tr>\n",
       "  <th>No. Observations:</th>      <td>   269</td>      <th>  AIC:               </th> <td>   4430.</td>\n",
       "</tr>\n",
       "<tr>\n",
       "  <th>Df Residuals:</th>          <td>   266</td>      <th>  BIC:               </th> <td>   4441.</td>\n",
       "</tr>\n",
       "<tr>\n",
       "  <th>Df Model:</th>              <td>     2</td>      <th>                     </th>     <td> </td>   \n",
       "</tr>\n",
       "<tr>\n",
       "  <th>Covariance Type:</th>      <td>nonrobust</td>    <th>                     </th>     <td> </td>   \n",
       "</tr>\n",
       "</table>\n",
       "<table class=\"simpletable\">\n",
       "<tr>\n",
       "    <td></td>       <th>coef</th>     <th>std err</th>      <th>t</th>      <th>P>|t|</th>  <th>[0.025</th>    <th>0.975]</th>  \n",
       "</tr>\n",
       "<tr>\n",
       "  <th>const</th> <td> 3295.2932</td> <td> 1096.404</td> <td>    3.006</td> <td> 0.003</td> <td> 1136.559</td> <td> 5454.028</td>\n",
       "</tr>\n",
       "<tr>\n",
       "  <th>age</th>   <td> -110.1153</td> <td>   48.335</td> <td>   -2.278</td> <td> 0.024</td> <td> -205.284</td> <td>  -14.947</td>\n",
       "</tr>\n",
       "<tr>\n",
       "  <th>exper</th> <td>  223.6860</td> <td>   48.210</td> <td>    4.640</td> <td> 0.000</td> <td>  128.763</td> <td>  318.609</td>\n",
       "</tr>\n",
       "</table>\n",
       "<table class=\"simpletable\">\n",
       "<tr>\n",
       "  <th>Omnibus:</th>       <td>57.784</td> <th>  Durbin-Watson:     </th> <td>   2.022</td>\n",
       "</tr>\n",
       "<tr>\n",
       "  <th>Prob(Omnibus):</th> <td> 0.000</td> <th>  Jarque-Bera (JB):  </th> <td> 118.329</td>\n",
       "</tr>\n",
       "<tr>\n",
       "  <th>Skew:</th>          <td> 1.077</td> <th>  Prob(JB):          </th> <td>2.02e-26</td>\n",
       "</tr>\n",
       "<tr>\n",
       "  <th>Kurtosis:</th>      <td> 5.433</td> <th>  Cond. No.          </th> <td>    559.</td>\n",
       "</tr>\n",
       "</table><br/><br/>Notes:<br/>[1] Standard Errors assume that the covariance matrix of the errors is correctly specified."
      ],
      "text/latex": [
       "\\begin{center}\n",
       "\\begin{tabular}{lclc}\n",
       "\\toprule\n",
       "\\textbf{Dep. Variable:}    &       wage       & \\textbf{  R-squared:         } &     0.183   \\\\\n",
       "\\textbf{Model:}            &       OLS        & \\textbf{  Adj. R-squared:    } &     0.177   \\\\\n",
       "\\textbf{Method:}           &  Least Squares   & \\textbf{  F-statistic:       } &     29.86   \\\\\n",
       "\\textbf{Date:}             & Fri, 01 Dec 2023 & \\textbf{  Prob (F-statistic):} &  2.00e-12   \\\\\n",
       "\\textbf{Time:}             &     12:58:11     & \\textbf{  Log-Likelihood:    } &   -2212.1   \\\\\n",
       "\\textbf{No. Observations:} &         269      & \\textbf{  AIC:               } &     4430.   \\\\\n",
       "\\textbf{Df Residuals:}     &         266      & \\textbf{  BIC:               } &     4441.   \\\\\n",
       "\\textbf{Df Model:}         &           2      & \\textbf{                     } &             \\\\\n",
       "\\textbf{Covariance Type:}  &    nonrobust     & \\textbf{                     } &             \\\\\n",
       "\\bottomrule\n",
       "\\end{tabular}\n",
       "\\begin{tabular}{lcccccc}\n",
       "               & \\textbf{coef} & \\textbf{std err} & \\textbf{t} & \\textbf{P$> |$t$|$} & \\textbf{[0.025} & \\textbf{0.975]}  \\\\\n",
       "\\midrule\n",
       "\\textbf{const} &    3295.2932  &     1096.404     &     3.006  &         0.003        &     1136.559    &     5454.028     \\\\\n",
       "\\textbf{age}   &    -110.1153  &       48.335     &    -2.278  &         0.024        &     -205.284    &      -14.947     \\\\\n",
       "\\textbf{exper} &     223.6860  &       48.210     &     4.640  &         0.000        &      128.763    &      318.609     \\\\\n",
       "\\bottomrule\n",
       "\\end{tabular}\n",
       "\\begin{tabular}{lclc}\n",
       "\\textbf{Omnibus:}       & 57.784 & \\textbf{  Durbin-Watson:     } &    2.022  \\\\\n",
       "\\textbf{Prob(Omnibus):} &  0.000 & \\textbf{  Jarque-Bera (JB):  } &  118.329  \\\\\n",
       "\\textbf{Skew:}          &  1.077 & \\textbf{  Prob(JB):          } & 2.02e-26  \\\\\n",
       "\\textbf{Kurtosis:}      &  5.433 & \\textbf{  Cond. No.          } &     559.  \\\\\n",
       "\\bottomrule\n",
       "\\end{tabular}\n",
       "%\\caption{OLS Regression Results}\n",
       "\\end{center}\n",
       "\n",
       "Notes: \\newline\n",
       " [1] Standard Errors assume that the covariance matrix of the errors is correctly specified."
      ],
      "text/plain": [
       "<class 'statsmodels.iolib.summary.Summary'>\n",
       "\"\"\"\n",
       "                            OLS Regression Results                            \n",
       "==============================================================================\n",
       "Dep. Variable:                   wage   R-squared:                       0.183\n",
       "Model:                            OLS   Adj. R-squared:                  0.177\n",
       "Method:                 Least Squares   F-statistic:                     29.86\n",
       "Date:                Fri, 01 Dec 2023   Prob (F-statistic):           2.00e-12\n",
       "Time:                        12:58:11   Log-Likelihood:                -2212.1\n",
       "No. Observations:                 269   AIC:                             4430.\n",
       "Df Residuals:                     266   BIC:                             4441.\n",
       "Df Model:                           2                                         \n",
       "Covariance Type:            nonrobust                                         \n",
       "==============================================================================\n",
       "                 coef    std err          t      P>|t|      [0.025      0.975]\n",
       "------------------------------------------------------------------------------\n",
       "const       3295.2932   1096.404      3.006      0.003    1136.559    5454.028\n",
       "age         -110.1153     48.335     -2.278      0.024    -205.284     -14.947\n",
       "exper        223.6860     48.210      4.640      0.000     128.763     318.609\n",
       "==============================================================================\n",
       "Omnibus:                       57.784   Durbin-Watson:                   2.022\n",
       "Prob(Omnibus):                  0.000   Jarque-Bera (JB):              118.329\n",
       "Skew:                           1.077   Prob(JB):                     2.02e-26\n",
       "Kurtosis:                       5.433   Cond. No.                         559.\n",
       "==============================================================================\n",
       "\n",
       "Notes:\n",
       "[1] Standard Errors assume that the covariance matrix of the errors is correctly specified.\n",
       "\"\"\""
      ]
     },
     "execution_count": 25,
     "metadata": {},
     "output_type": "execute_result"
    }
   ],
   "source": [
    "results.summary()"
   ]
  },
  {
   "cell_type": "markdown",
   "id": "235e49ba-e4b9-4934-aabb-96830b22743c",
   "metadata": {},
   "source": [
    "### By adding in two independent variables, both age and experience that are correlated with each other, the sign of the coeficient for age has reversed to a negative. When we have age as the only independant variable the sign is positive. Here we likely have collinearity of regressors which is causing this adverse result. Lets now have a look at the effect of points scored on wages."
   ]
  },
  {
   "cell_type": "code",
   "execution_count": 26,
   "id": "84ee2a9f-ddb1-4e0e-9153-5b199580b0e9",
   "metadata": {
    "tags": []
   },
   "outputs": [
    {
     "data": {
      "text/html": [
       "<table class=\"simpletable\">\n",
       "<caption>OLS Regression Results</caption>\n",
       "<tr>\n",
       "  <th>Dep. Variable:</th>          <td>wage</td>       <th>  R-squared:         </th> <td>   0.432</td>\n",
       "</tr>\n",
       "<tr>\n",
       "  <th>Model:</th>                   <td>OLS</td>       <th>  Adj. R-squared:    </th> <td>   0.430</td>\n",
       "</tr>\n",
       "<tr>\n",
       "  <th>Method:</th>             <td>Least Squares</td>  <th>  F-statistic:       </th> <td>   202.8</td>\n",
       "</tr>\n",
       "<tr>\n",
       "  <th>Date:</th>             <td>Fri, 01 Dec 2023</td> <th>  Prob (F-statistic):</th> <td>1.28e-34</td>\n",
       "</tr>\n",
       "<tr>\n",
       "  <th>Time:</th>                 <td>12:58:11</td>     <th>  Log-Likelihood:    </th> <td> -2163.3</td>\n",
       "</tr>\n",
       "<tr>\n",
       "  <th>No. Observations:</th>      <td>   269</td>      <th>  AIC:               </th> <td>   4331.</td>\n",
       "</tr>\n",
       "<tr>\n",
       "  <th>Df Residuals:</th>          <td>   267</td>      <th>  BIC:               </th> <td>   4338.</td>\n",
       "</tr>\n",
       "<tr>\n",
       "  <th>Df Model:</th>              <td>     1</td>      <th>                     </th>     <td> </td>   \n",
       "</tr>\n",
       "<tr>\n",
       "  <th>Covariance Type:</th>      <td>nonrobust</td>    <th>                     </th>     <td> </td>   \n",
       "</tr>\n",
       "</table>\n",
       "<table class=\"simpletable\">\n",
       "<tr>\n",
       "     <td></td>       <th>coef</th>     <th>std err</th>      <th>t</th>      <th>P>|t|</th>  <th>[0.025</th>    <th>0.975]</th>  \n",
       "</tr>\n",
       "<tr>\n",
       "  <th>const</th>  <td>  278.1023</td> <td>   92.694</td> <td>    3.000</td> <td> 0.003</td> <td>   95.598</td> <td>  460.606</td>\n",
       "</tr>\n",
       "<tr>\n",
       "  <th>points</th> <td>  111.6667</td> <td>    7.841</td> <td>   14.241</td> <td> 0.000</td> <td>   96.228</td> <td>  127.105</td>\n",
       "</tr>\n",
       "</table>\n",
       "<table class=\"simpletable\">\n",
       "<tr>\n",
       "  <th>Omnibus:</th>       <td>38.558</td> <th>  Durbin-Watson:     </th> <td>   1.820</td>\n",
       "</tr>\n",
       "<tr>\n",
       "  <th>Prob(Omnibus):</th> <td> 0.000</td> <th>  Jarque-Bera (JB):  </th> <td>  59.491</td>\n",
       "</tr>\n",
       "<tr>\n",
       "  <th>Skew:</th>          <td> 0.853</td> <th>  Prob(JB):          </th> <td>1.21e-13</td>\n",
       "</tr>\n",
       "<tr>\n",
       "  <th>Kurtosis:</th>      <td> 4.548</td> <th>  Cond. No.          </th> <td>    23.9</td>\n",
       "</tr>\n",
       "</table><br/><br/>Notes:<br/>[1] Standard Errors assume that the covariance matrix of the errors is correctly specified."
      ],
      "text/latex": [
       "\\begin{center}\n",
       "\\begin{tabular}{lclc}\n",
       "\\toprule\n",
       "\\textbf{Dep. Variable:}    &       wage       & \\textbf{  R-squared:         } &     0.432   \\\\\n",
       "\\textbf{Model:}            &       OLS        & \\textbf{  Adj. R-squared:    } &     0.430   \\\\\n",
       "\\textbf{Method:}           &  Least Squares   & \\textbf{  F-statistic:       } &     202.8   \\\\\n",
       "\\textbf{Date:}             & Fri, 01 Dec 2023 & \\textbf{  Prob (F-statistic):} &  1.28e-34   \\\\\n",
       "\\textbf{Time:}             &     12:58:11     & \\textbf{  Log-Likelihood:    } &   -2163.3   \\\\\n",
       "\\textbf{No. Observations:} &         269      & \\textbf{  AIC:               } &     4331.   \\\\\n",
       "\\textbf{Df Residuals:}     &         267      & \\textbf{  BIC:               } &     4338.   \\\\\n",
       "\\textbf{Df Model:}         &           1      & \\textbf{                     } &             \\\\\n",
       "\\textbf{Covariance Type:}  &    nonrobust     & \\textbf{                     } &             \\\\\n",
       "\\bottomrule\n",
       "\\end{tabular}\n",
       "\\begin{tabular}{lcccccc}\n",
       "                & \\textbf{coef} & \\textbf{std err} & \\textbf{t} & \\textbf{P$> |$t$|$} & \\textbf{[0.025} & \\textbf{0.975]}  \\\\\n",
       "\\midrule\n",
       "\\textbf{const}  &     278.1023  &       92.694     &     3.000  &         0.003        &       95.598    &      460.606     \\\\\n",
       "\\textbf{points} &     111.6667  &        7.841     &    14.241  &         0.000        &       96.228    &      127.105     \\\\\n",
       "\\bottomrule\n",
       "\\end{tabular}\n",
       "\\begin{tabular}{lclc}\n",
       "\\textbf{Omnibus:}       & 38.558 & \\textbf{  Durbin-Watson:     } &    1.820  \\\\\n",
       "\\textbf{Prob(Omnibus):} &  0.000 & \\textbf{  Jarque-Bera (JB):  } &   59.491  \\\\\n",
       "\\textbf{Skew:}          &  0.853 & \\textbf{  Prob(JB):          } & 1.21e-13  \\\\\n",
       "\\textbf{Kurtosis:}      &  4.548 & \\textbf{  Cond. No.          } &     23.9  \\\\\n",
       "\\bottomrule\n",
       "\\end{tabular}\n",
       "%\\caption{OLS Regression Results}\n",
       "\\end{center}\n",
       "\n",
       "Notes: \\newline\n",
       " [1] Standard Errors assume that the covariance matrix of the errors is correctly specified."
      ],
      "text/plain": [
       "<class 'statsmodels.iolib.summary.Summary'>\n",
       "\"\"\"\n",
       "                            OLS Regression Results                            \n",
       "==============================================================================\n",
       "Dep. Variable:                   wage   R-squared:                       0.432\n",
       "Model:                            OLS   Adj. R-squared:                  0.430\n",
       "Method:                 Least Squares   F-statistic:                     202.8\n",
       "Date:                Fri, 01 Dec 2023   Prob (F-statistic):           1.28e-34\n",
       "Time:                        12:58:11   Log-Likelihood:                -2163.3\n",
       "No. Observations:                 269   AIC:                             4331.\n",
       "Df Residuals:                     267   BIC:                             4338.\n",
       "Df Model:                           1                                         \n",
       "Covariance Type:            nonrobust                                         \n",
       "==============================================================================\n",
       "                 coef    std err          t      P>|t|      [0.025      0.975]\n",
       "------------------------------------------------------------------------------\n",
       "const        278.1023     92.694      3.000      0.003      95.598     460.606\n",
       "points       111.6667      7.841     14.241      0.000      96.228     127.105\n",
       "==============================================================================\n",
       "Omnibus:                       38.558   Durbin-Watson:                   1.820\n",
       "Prob(Omnibus):                  0.000   Jarque-Bera (JB):               59.491\n",
       "Skew:                           0.853   Prob(JB):                     1.21e-13\n",
       "Kurtosis:                       4.548   Cond. No.                         23.9\n",
       "==============================================================================\n",
       "\n",
       "Notes:\n",
       "[1] Standard Errors assume that the covariance matrix of the errors is correctly specified.\n",
       "\"\"\""
      ]
     },
     "execution_count": 26,
     "metadata": {},
     "output_type": "execute_result"
    }
   ],
   "source": [
    "x, y = df[\"points\"], df[\"wage\"]\n",
    "x = sm.add_constant(x)\n",
    "model = sm.OLS(y, x)\n",
    "results = model.fit()\n",
    "results.summary()"
   ]
  },
  {
   "cell_type": "code",
   "execution_count": 27,
   "id": "c9584a36-6348-4034-9c8e-131999a6f92e",
   "metadata": {
    "tags": []
   },
   "outputs": [
    {
     "data": {
      "image/png": "[encoded data removed]",
      "text/plain": [
       "<Figure size 640x480 with 1 Axes>"
      ]
     },
     "metadata": {},
     "output_type": "display_data"
    }
   ],
   "source": [
    "coef_intercept, coef_points = results.params\n",
    "\n",
    "plt.scatter(df[\"points\"],df[\"wage\"],label=\"Actual data\")\n",
    "\n",
    "plt.plot(df[\"points\"], coef_intercept + coef_points * df[\"points\"], color='red', label=\"Regression line\")\n",
    "\n",
    "plt.xlabel(\"points\")\n",
    "plt.ylabel(\"Wage\")\n",
    "plt.legend()\n",
    "plt.show()"
   ]
  },
  {
   "cell_type": "code",
   "execution_count": 28,
   "id": "9f458564-9c80-43d8-9039-db5125bb6a97",
   "metadata": {
    "tags": []
   },
   "outputs": [
    {
     "name": "stdout",
     "output_type": "stream",
     "text": [
      "1116.6669734567758\n"
     ]
    }
   ],
   "source": [
    "increase = coef_points * 10\n",
    "print(increase)"
   ]
  },
  {
   "cell_type": "markdown",
   "id": "1d076b18-f8bc-46a4-8287-0b5b2a644134",
   "metadata": {},
   "source": [
    "### Here it looks like the there might be some heteroscedasticity lets produce a graph to check if this is the case."
   ]
  },
  {
   "cell_type": "code",
   "execution_count": 29,
   "id": "cf9cf91d-6f21-4095-a1b6-e6695dcfb9fe",
   "metadata": {},
   "outputs": [],
   "source": [
    "residuals = results.resid"
   ]
  },
  {
   "cell_type": "code",
   "execution_count": 30,
   "id": "c1f66067-4bed-4304-9769-846dc46ebcc5",
   "metadata": {
    "tags": []
   },
   "outputs": [
    {
     "data": {
      "text/plain": [
       "<matplotlib.lines.Line2D at 0x1fe1f037040>"
      ]
     },
     "execution_count": 30,
     "metadata": {},
     "output_type": "execute_result"
    },
    {
     "data": {
      "image/png": "[encoded data removed]",
      "text/plain": [
       "<Figure size 640x480 with 1 Axes>"
      ]
     },
     "metadata": {},
     "output_type": "display_data"
    }
   ],
   "source": [
    "plt.scatter(df[\"points\"],residuals)\n",
    "plt.axhline(linewidth=4, color='r')"
   ]
  },
  {
   "cell_type": "markdown",
   "id": "6f7fb993-ca08-4051-b622-b195b2e9b6f3",
   "metadata": {},
   "source": [
    "### As you can see the variation of the error terms are not even for each value of points, it looks like the variance of the error term increases initially before decreasing as the points you score gets towards the top end of the sample. This make intuative sense as player who dont score a lot of points are probably paid a similar amount, those in the middle of the pack for points scoring might earn a lot and might not earn a lot (really good defenders versus poor attackers). There is little variation in those that score a lot of points as they are likely to be the top attackers.\n",
    "\n",
    "### I suspect the impact of points on salary that the model has predicted it is too high. There is probably some reverse causality happening as players who are paid more are more likely to score more points. Also, points likely captures the effects of other variables that are also important in determining wages. Some players from better teams have better players playing with them, and hence tend to have more chances to score. Similarly players on better teams tend to be paid more.\n",
    "\n",
    "### Now i am going to create some new independant variable and include them in a new regression model."
   ]
  },
  {
   "cell_type": "code",
   "execution_count": 37,
   "id": "194cc9e6-88ce-4a38-b236-c3925f0a1039",
   "metadata": {},
   "outputs": [],
   "source": [
    "df[\"pointssq\"] = df[\"points\"].apply(lambda x: x ** 2)\n",
    "df[\"pointsc\"] = df[\"points\"].apply(lambda x: x ** 3)"
   ]
  },
  {
   "cell_type": "code",
   "execution_count": 38,
   "id": "410e4102-f518-448d-8c24-2ef0737a1946",
   "metadata": {
    "tags": []
   },
   "outputs": [
    {
     "data": {
      "text/html": [
       "<div>\n",
       "<style scoped>\n",
       "    .dataframe tbody tr th:only-of-type {\n",
       "        vertical-align: middle;\n",
       "    }\n",
       "\n",
       "    .dataframe tbody tr th {\n",
       "        vertical-align: top;\n",
       "    }\n",
       "\n",
       "    .dataframe thead th {\n",
       "        text-align: right;\n",
       "    }\n",
       "</style>\n",
       "<table border=\"1\" class=\"dataframe\">\n",
       "  <thead>\n",
       "    <tr style=\"text-align: right;\">\n",
       "      <th></th>\n",
       "      <th>points</th>\n",
       "      <th>pointssq</th>\n",
       "      <th>pointsc</th>\n",
       "    </tr>\n",
       "  </thead>\n",
       "  <tbody>\n",
       "    <tr>\n",
       "      <th>0</th>\n",
       "      <td>16</td>\n",
       "      <td>256</td>\n",
       "      <td>4096</td>\n",
       "    </tr>\n",
       "    <tr>\n",
       "      <th>1</th>\n",
       "      <td>13</td>\n",
       "      <td>169</td>\n",
       "      <td>2197</td>\n",
       "    </tr>\n",
       "    <tr>\n",
       "      <th>2</th>\n",
       "      <td>6</td>\n",
       "      <td>36</td>\n",
       "      <td>216</td>\n",
       "    </tr>\n",
       "    <tr>\n",
       "      <th>3</th>\n",
       "      <td>7</td>\n",
       "      <td>49</td>\n",
       "      <td>343</td>\n",
       "    </tr>\n",
       "    <tr>\n",
       "      <th>4</th>\n",
       "      <td>11</td>\n",
       "      <td>121</td>\n",
       "      <td>1331</td>\n",
       "    </tr>\n",
       "    <tr>\n",
       "      <th>...</th>\n",
       "      <td>...</td>\n",
       "      <td>...</td>\n",
       "      <td>...</td>\n",
       "    </tr>\n",
       "    <tr>\n",
       "      <th>264</th>\n",
       "      <td>20</td>\n",
       "      <td>400</td>\n",
       "      <td>8000</td>\n",
       "    </tr>\n",
       "    <tr>\n",
       "      <th>265</th>\n",
       "      <td>5</td>\n",
       "      <td>25</td>\n",
       "      <td>125</td>\n",
       "    </tr>\n",
       "    <tr>\n",
       "      <th>266</th>\n",
       "      <td>10</td>\n",
       "      <td>100</td>\n",
       "      <td>1000</td>\n",
       "    </tr>\n",
       "    <tr>\n",
       "      <th>267</th>\n",
       "      <td>16</td>\n",
       "      <td>256</td>\n",
       "      <td>4096</td>\n",
       "    </tr>\n",
       "    <tr>\n",
       "      <th>268</th>\n",
       "      <td>2</td>\n",
       "      <td>4</td>\n",
       "      <td>8</td>\n",
       "    </tr>\n",
       "  </tbody>\n",
       "</table>\n",
       "<p>269 rows × 3 columns</p>\n",
       "</div>"
      ],
      "text/plain": [
       "     points  pointssq  pointsc\n",
       "0        16       256     4096\n",
       "1        13       169     2197\n",
       "2         6        36      216\n",
       "3         7        49      343\n",
       "4        11       121     1331\n",
       "..      ...       ...      ...\n",
       "264      20       400     8000\n",
       "265       5        25      125\n",
       "266      10       100     1000\n",
       "267      16       256     4096\n",
       "268       2         4        8\n",
       "\n",
       "[269 rows x 3 columns]"
      ]
     },
     "execution_count": 38,
     "metadata": {},
     "output_type": "execute_result"
    }
   ],
   "source": [
    "df[[\"points\", \"pointssq\", \"pointsc\"]]"
   ]
  },
  {
   "cell_type": "code",
   "execution_count": 39,
   "id": "fba53137-0594-4916-b885-10ee27690502",
   "metadata": {
    "tags": []
   },
   "outputs": [
    {
     "data": {
      "text/html": [
       "<table class=\"simpletable\">\n",
       "<caption>OLS Regression Results</caption>\n",
       "<tr>\n",
       "  <th>Dep. Variable:</th>          <td>wage</td>       <th>  R-squared:         </th> <td>   0.434</td>\n",
       "</tr>\n",
       "<tr>\n",
       "  <th>Model:</th>                   <td>OLS</td>       <th>  Adj. R-squared:    </th> <td>   0.430</td>\n",
       "</tr>\n",
       "<tr>\n",
       "  <th>Method:</th>             <td>Least Squares</td>  <th>  F-statistic:       </th> <td>   102.0</td>\n",
       "</tr>\n",
       "<tr>\n",
       "  <th>Date:</th>             <td>Fri, 01 Dec 2023</td> <th>  Prob (F-statistic):</th> <td>1.36e-33</td>\n",
       "</tr>\n",
       "<tr>\n",
       "  <th>Time:</th>                 <td>13:13:02</td>     <th>  Log-Likelihood:    </th> <td> -2162.8</td>\n",
       "</tr>\n",
       "<tr>\n",
       "  <th>No. Observations:</th>      <td>   269</td>      <th>  AIC:               </th> <td>   4332.</td>\n",
       "</tr>\n",
       "<tr>\n",
       "  <th>Df Residuals:</th>          <td>   266</td>      <th>  BIC:               </th> <td>   4342.</td>\n",
       "</tr>\n",
       "<tr>\n",
       "  <th>Df Model:</th>              <td>     2</td>      <th>                     </th>     <td> </td>   \n",
       "</tr>\n",
       "<tr>\n",
       "  <th>Covariance Type:</th>      <td>nonrobust</td>    <th>                     </th>     <td> </td>   \n",
       "</tr>\n",
       "</table>\n",
       "<table class=\"simpletable\">\n",
       "<tr>\n",
       "      <td></td>        <th>coef</th>     <th>std err</th>      <th>t</th>      <th>P>|t|</th>  <th>[0.025</th>    <th>0.975]</th>  \n",
       "</tr>\n",
       "<tr>\n",
       "  <th>const</th>    <td>  396.6413</td> <td>  148.060</td> <td>    2.679</td> <td> 0.008</td> <td>  105.123</td> <td>  688.160</td>\n",
       "</tr>\n",
       "<tr>\n",
       "  <th>points</th>   <td>   85.4355</td> <td>   26.726</td> <td>    3.197</td> <td> 0.002</td> <td>   32.814</td> <td>  138.057</td>\n",
       "</tr>\n",
       "<tr>\n",
       "  <th>pointssq</th> <td>    1.0777</td> <td>    1.050</td> <td>    1.027</td> <td> 0.306</td> <td>   -0.989</td> <td>    3.144</td>\n",
       "</tr>\n",
       "</table>\n",
       "<table class=\"simpletable\">\n",
       "<tr>\n",
       "  <th>Omnibus:</th>       <td>40.249</td> <th>  Durbin-Watson:     </th> <td>   1.828</td>\n",
       "</tr>\n",
       "<tr>\n",
       "  <th>Prob(Omnibus):</th> <td> 0.000</td> <th>  Jarque-Bera (JB):  </th> <td>  62.998</td>\n",
       "</tr>\n",
       "<tr>\n",
       "  <th>Skew:</th>          <td> 0.879</td> <th>  Prob(JB):          </th> <td>2.09e-14</td>\n",
       "</tr>\n",
       "<tr>\n",
       "  <th>Kurtosis:</th>      <td> 4.591</td> <th>  Cond. No.          </th> <td>    668.</td>\n",
       "</tr>\n",
       "</table><br/><br/>Notes:<br/>[1] Standard Errors assume that the covariance matrix of the errors is correctly specified."
      ],
      "text/latex": [
       "\\begin{center}\n",
       "\\begin{tabular}{lclc}\n",
       "\\toprule\n",
       "\\textbf{Dep. Variable:}    &       wage       & \\textbf{  R-squared:         } &     0.434   \\\\\n",
       "\\textbf{Model:}            &       OLS        & \\textbf{  Adj. R-squared:    } &     0.430   \\\\\n",
       "\\textbf{Method:}           &  Least Squares   & \\textbf{  F-statistic:       } &     102.0   \\\\\n",
       "\\textbf{Date:}             & Fri, 01 Dec 2023 & \\textbf{  Prob (F-statistic):} &  1.36e-33   \\\\\n",
       "\\textbf{Time:}             &     13:13:02     & \\textbf{  Log-Likelihood:    } &   -2162.8   \\\\\n",
       "\\textbf{No. Observations:} &         269      & \\textbf{  AIC:               } &     4332.   \\\\\n",
       "\\textbf{Df Residuals:}     &         266      & \\textbf{  BIC:               } &     4342.   \\\\\n",
       "\\textbf{Df Model:}         &           2      & \\textbf{                     } &             \\\\\n",
       "\\textbf{Covariance Type:}  &    nonrobust     & \\textbf{                     } &             \\\\\n",
       "\\bottomrule\n",
       "\\end{tabular}\n",
       "\\begin{tabular}{lcccccc}\n",
       "                  & \\textbf{coef} & \\textbf{std err} & \\textbf{t} & \\textbf{P$> |$t$|$} & \\textbf{[0.025} & \\textbf{0.975]}  \\\\\n",
       "\\midrule\n",
       "\\textbf{const}    &     396.6413  &      148.060     &     2.679  &         0.008        &      105.123    &      688.160     \\\\\n",
       "\\textbf{points}   &      85.4355  &       26.726     &     3.197  &         0.002        &       32.814    &      138.057     \\\\\n",
       "\\textbf{pointssq} &       1.0777  &        1.050     &     1.027  &         0.306        &       -0.989    &        3.144     \\\\\n",
       "\\bottomrule\n",
       "\\end{tabular}\n",
       "\\begin{tabular}{lclc}\n",
       "\\textbf{Omnibus:}       & 40.249 & \\textbf{  Durbin-Watson:     } &    1.828  \\\\\n",
       "\\textbf{Prob(Omnibus):} &  0.000 & \\textbf{  Jarque-Bera (JB):  } &   62.998  \\\\\n",
       "\\textbf{Skew:}          &  0.879 & \\textbf{  Prob(JB):          } & 2.09e-14  \\\\\n",
       "\\textbf{Kurtosis:}      &  4.591 & \\textbf{  Cond. No.          } &     668.  \\\\\n",
       "\\bottomrule\n",
       "\\end{tabular}\n",
       "%\\caption{OLS Regression Results}\n",
       "\\end{center}\n",
       "\n",
       "Notes: \\newline\n",
       " [1] Standard Errors assume that the covariance matrix of the errors is correctly specified."
      ],
      "text/plain": [
       "<class 'statsmodels.iolib.summary.Summary'>\n",
       "\"\"\"\n",
       "                            OLS Regression Results                            \n",
       "==============================================================================\n",
       "Dep. Variable:                   wage   R-squared:                       0.434\n",
       "Model:                            OLS   Adj. R-squared:                  0.430\n",
       "Method:                 Least Squares   F-statistic:                     102.0\n",
       "Date:                Fri, 01 Dec 2023   Prob (F-statistic):           1.36e-33\n",
       "Time:                        13:13:02   Log-Likelihood:                -2162.8\n",
       "No. Observations:                 269   AIC:                             4332.\n",
       "Df Residuals:                     266   BIC:                             4342.\n",
       "Df Model:                           2                                         \n",
       "Covariance Type:            nonrobust                                         \n",
       "==============================================================================\n",
       "                 coef    std err          t      P>|t|      [0.025      0.975]\n",
       "------------------------------------------------------------------------------\n",
       "const        396.6413    148.060      2.679      0.008     105.123     688.160\n",
       "points        85.4355     26.726      3.197      0.002      32.814     138.057\n",
       "pointssq       1.0777      1.050      1.027      0.306      -0.989       3.144\n",
       "==============================================================================\n",
       "Omnibus:                       40.249   Durbin-Watson:                   1.828\n",
       "Prob(Omnibus):                  0.000   Jarque-Bera (JB):               62.998\n",
       "Skew:                           0.879   Prob(JB):                     2.09e-14\n",
       "Kurtosis:                       4.591   Cond. No.                         668.\n",
       "==============================================================================\n",
       "\n",
       "Notes:\n",
       "[1] Standard Errors assume that the covariance matrix of the errors is correctly specified.\n",
       "\"\"\""
      ]
     },
     "execution_count": 39,
     "metadata": {},
     "output_type": "execute_result"
    }
   ],
   "source": [
    "x, y = df[[\"points\", \"pointssq\"]], df[\"wage\"]\n",
    "x = sm.add_constant(x)\n",
    "model = sm.OLS(y, x)\n",
    "results = model.fit()\n",
    "results.summary()"
   ]
  },
  {
   "cell_type": "code",
   "execution_count": 40,
   "id": "dc522d1c-89cd-432f-9256-213dd5cdc577",
   "metadata": {
    "tags": []
   },
   "outputs": [
    {
     "data": {
      "text/html": [
       "<table class=\"simpletable\">\n",
       "<caption>OLS Regression Results</caption>\n",
       "<tr>\n",
       "  <th>Dep. Variable:</th>          <td>wage</td>       <th>  R-squared:         </th> <td>   0.443</td>\n",
       "</tr>\n",
       "<tr>\n",
       "  <th>Model:</th>                   <td>OLS</td>       <th>  Adj. R-squared:    </th> <td>   0.436</td>\n",
       "</tr>\n",
       "<tr>\n",
       "  <th>Method:</th>             <td>Least Squares</td>  <th>  F-statistic:       </th> <td>   70.16</td>\n",
       "</tr>\n",
       "<tr>\n",
       "  <th>Date:</th>             <td>Fri, 01 Dec 2023</td> <th>  Prob (F-statistic):</th> <td>2.00e-33</td>\n",
       "</tr>\n",
       "<tr>\n",
       "  <th>Time:</th>                 <td>13:13:26</td>     <th>  Log-Likelihood:    </th> <td> -2160.7</td>\n",
       "</tr>\n",
       "<tr>\n",
       "  <th>No. Observations:</th>      <td>   269</td>      <th>  AIC:               </th> <td>   4329.</td>\n",
       "</tr>\n",
       "<tr>\n",
       "  <th>Df Residuals:</th>          <td>   265</td>      <th>  BIC:               </th> <td>   4344.</td>\n",
       "</tr>\n",
       "<tr>\n",
       "  <th>Df Model:</th>              <td>     3</td>      <th>                     </th>     <td> </td>   \n",
       "</tr>\n",
       "<tr>\n",
       "  <th>Covariance Type:</th>      <td>nonrobust</td>    <th>                     </th>     <td> </td>   \n",
       "</tr>\n",
       "</table>\n",
       "<table class=\"simpletable\">\n",
       "<tr>\n",
       "      <td></td>        <th>coef</th>     <th>std err</th>      <th>t</th>      <th>P>|t|</th>  <th>[0.025</th>    <th>0.975]</th>  \n",
       "</tr>\n",
       "<tr>\n",
       "  <th>const</th>    <td>   59.2577</td> <td>  221.555</td> <td>    0.267</td> <td> 0.789</td> <td> -376.974</td> <td>  495.489</td>\n",
       "</tr>\n",
       "<tr>\n",
       "  <th>points</th>   <td>  207.2324</td> <td>   65.419</td> <td>    3.168</td> <td> 0.002</td> <td>   78.426</td> <td>  336.039</td>\n",
       "</tr>\n",
       "<tr>\n",
       "  <th>pointssq</th> <td>   -9.6892</td> <td>    5.387</td> <td>   -1.799</td> <td> 0.073</td> <td>  -20.295</td> <td>    0.917</td>\n",
       "</tr>\n",
       "<tr>\n",
       "  <th>pointsc</th>  <td>    0.2606</td> <td>    0.128</td> <td>    2.037</td> <td> 0.043</td> <td>    0.009</td> <td>    0.512</td>\n",
       "</tr>\n",
       "</table>\n",
       "<table class=\"simpletable\">\n",
       "<tr>\n",
       "  <th>Omnibus:</th>       <td>38.460</td> <th>  Durbin-Watson:     </th> <td>   1.838</td>\n",
       "</tr>\n",
       "<tr>\n",
       "  <th>Prob(Omnibus):</th> <td> 0.000</td> <th>  Jarque-Bera (JB):  </th> <td>  57.175</td>\n",
       "</tr>\n",
       "<tr>\n",
       "  <th>Skew:</th>          <td> 0.871</td> <th>  Prob(JB):          </th> <td>3.84e-13</td>\n",
       "</tr>\n",
       "<tr>\n",
       "  <th>Kurtosis:</th>      <td> 4.437</td> <th>  Cond. No.          </th> <td>2.17e+04</td>\n",
       "</tr>\n",
       "</table><br/><br/>Notes:<br/>[1] Standard Errors assume that the covariance matrix of the errors is correctly specified.<br/>[2] The condition number is large, 2.17e+04. This might indicate that there are<br/>strong multicollinearity or other numerical problems."
      ],
      "text/latex": [
       "\\begin{center}\n",
       "\\begin{tabular}{lclc}\n",
       "\\toprule\n",
       "\\textbf{Dep. Variable:}    &       wage       & \\textbf{  R-squared:         } &     0.443   \\\\\n",
       "\\textbf{Model:}            &       OLS        & \\textbf{  Adj. R-squared:    } &     0.436   \\\\\n",
       "\\textbf{Method:}           &  Least Squares   & \\textbf{  F-statistic:       } &     70.16   \\\\\n",
       "\\textbf{Date:}             & Fri, 01 Dec 2023 & \\textbf{  Prob (F-statistic):} &  2.00e-33   \\\\\n",
       "\\textbf{Time:}             &     13:13:26     & \\textbf{  Log-Likelihood:    } &   -2160.7   \\\\\n",
       "\\textbf{No. Observations:} &         269      & \\textbf{  AIC:               } &     4329.   \\\\\n",
       "\\textbf{Df Residuals:}     &         265      & \\textbf{  BIC:               } &     4344.   \\\\\n",
       "\\textbf{Df Model:}         &           3      & \\textbf{                     } &             \\\\\n",
       "\\textbf{Covariance Type:}  &    nonrobust     & \\textbf{                     } &             \\\\\n",
       "\\bottomrule\n",
       "\\end{tabular}\n",
       "\\begin{tabular}{lcccccc}\n",
       "                  & \\textbf{coef} & \\textbf{std err} & \\textbf{t} & \\textbf{P$> |$t$|$} & \\textbf{[0.025} & \\textbf{0.975]}  \\\\\n",
       "\\midrule\n",
       "\\textbf{const}    &      59.2577  &      221.555     &     0.267  &         0.789        &     -376.974    &      495.489     \\\\\n",
       "\\textbf{points}   &     207.2324  &       65.419     &     3.168  &         0.002        &       78.426    &      336.039     \\\\\n",
       "\\textbf{pointssq} &      -9.6892  &        5.387     &    -1.799  &         0.073        &      -20.295    &        0.917     \\\\\n",
       "\\textbf{pointsc}  &       0.2606  &        0.128     &     2.037  &         0.043        &        0.009    &        0.512     \\\\\n",
       "\\bottomrule\n",
       "\\end{tabular}\n",
       "\\begin{tabular}{lclc}\n",
       "\\textbf{Omnibus:}       & 38.460 & \\textbf{  Durbin-Watson:     } &    1.838  \\\\\n",
       "\\textbf{Prob(Omnibus):} &  0.000 & \\textbf{  Jarque-Bera (JB):  } &   57.175  \\\\\n",
       "\\textbf{Skew:}          &  0.871 & \\textbf{  Prob(JB):          } & 3.84e-13  \\\\\n",
       "\\textbf{Kurtosis:}      &  4.437 & \\textbf{  Cond. No.          } & 2.17e+04  \\\\\n",
       "\\bottomrule\n",
       "\\end{tabular}\n",
       "%\\caption{OLS Regression Results}\n",
       "\\end{center}\n",
       "\n",
       "Notes: \\newline\n",
       " [1] Standard Errors assume that the covariance matrix of the errors is correctly specified. \\newline\n",
       " [2] The condition number is large, 2.17e+04. This might indicate that there are \\newline\n",
       " strong multicollinearity or other numerical problems."
      ],
      "text/plain": [
       "<class 'statsmodels.iolib.summary.Summary'>\n",
       "\"\"\"\n",
       "                            OLS Regression Results                            \n",
       "==============================================================================\n",
       "Dep. Variable:                   wage   R-squared:                       0.443\n",
       "Model:                            OLS   Adj. R-squared:                  0.436\n",
       "Method:                 Least Squares   F-statistic:                     70.16\n",
       "Date:                Fri, 01 Dec 2023   Prob (F-statistic):           2.00e-33\n",
       "Time:                        13:13:26   Log-Likelihood:                -2160.7\n",
       "No. Observations:                 269   AIC:                             4329.\n",
       "Df Residuals:                     265   BIC:                             4344.\n",
       "Df Model:                           3                                         \n",
       "Covariance Type:            nonrobust                                         \n",
       "==============================================================================\n",
       "                 coef    std err          t      P>|t|      [0.025      0.975]\n",
       "------------------------------------------------------------------------------\n",
       "const         59.2577    221.555      0.267      0.789    -376.974     495.489\n",
       "points       207.2324     65.419      3.168      0.002      78.426     336.039\n",
       "pointssq      -9.6892      5.387     -1.799      0.073     -20.295       0.917\n",
       "pointsc        0.2606      0.128      2.037      0.043       0.009       0.512\n",
       "==============================================================================\n",
       "Omnibus:                       38.460   Durbin-Watson:                   1.838\n",
       "Prob(Omnibus):                  0.000   Jarque-Bera (JB):               57.175\n",
       "Skew:                           0.871   Prob(JB):                     3.84e-13\n",
       "Kurtosis:                       4.437   Cond. No.                     2.17e+04\n",
       "==============================================================================\n",
       "\n",
       "Notes:\n",
       "[1] Standard Errors assume that the covariance matrix of the errors is correctly specified.\n",
       "[2] The condition number is large, 2.17e+04. This might indicate that there are\n",
       "strong multicollinearity or other numerical problems.\n",
       "\"\"\""
      ]
     },
     "execution_count": 40,
     "metadata": {},
     "output_type": "execute_result"
    }
   ],
   "source": [
    "x, y = df[[\"points\", \"pointssq\", \"pointsc\"]], df[\"wage\"]\n",
    "x = sm.add_constant(x)\n",
    "model = sm.OLS(y, x)\n",
    "results = model.fit()\n",
    "results.summary()"
   ]
  },
  {
   "cell_type": "markdown",
   "id": "a8d4802d-b417-4d3d-9bc6-4275dab66d3f",
   "metadata": {},
   "source": [
    "### So across the three models that use some measure of points per game the R-squared which describes how the model fits the data are broadly similar - roughly between 0.43 and 0.44. Similarly, the adjusted R-squared stat are in the same range. On that basis it is probably best to use the first model that just uses points as the indepenant variable rather than points squared and points cubed as this has a much clearer interpretation. "
   ]
  },
  {
   "cell_type": "code",
   "execution_count": 46,
   "id": "041dc77e-9036-481e-b034-2ed14f38bfa9",
   "metadata": {
    "tags": []
   },
   "outputs": [
    {
     "data": {
      "image/png": "[encoded data removed]",
      "text/plain": [
       "<Figure size 640x480 with 1 Axes>"
      ]
     },
     "metadata": {},
     "output_type": "display_data"
    }
   ],
   "source": [
    "coef_intercept, coef_points, coef_pointssq, coef_pointsc = results.params\n",
    "\n",
    "plt.scatter(df[\"points\"],df[\"wage\"],label=\"Actual data\")\n",
    "\n",
    "plt.plot(df[\"points\"], coef_intercept + (coef_points * df[\"points\"]) + (coef_pointssq * df[\"points\"]) + (coef_pointsc * df[\"points\"]) , color='red', label=\"Regression line\")\n",
    "\n",
    "plt.xlabel(\"points\")\n",
    "plt.ylabel(\"Wage\")\n",
    "plt.legend()\n",
    "plt.show()"
   ]
  },
  {
   "cell_type": "markdown",
   "id": "318ac01f-fa20-4f23-bc1a-ff9fddb18a5c",
   "metadata": {},
   "source": [
    "### Now for a bit of freestyle and to try and create the best model. First i will have a look at some of the headers again and look at the correlations between them to ensure that we have no collinearity between the independant variables."
   ]
  },
  {
   "cell_type": "code",
   "execution_count": 47,
   "id": "f06ceed0-743a-429e-873e-0a87cbb271f5",
   "metadata": {
    "tags": []
   },
   "outputs": [
    {
     "data": {
      "text/plain": [
       "<Axes: >"
      ]
     },
     "execution_count": 47,
     "metadata": {},
     "output_type": "execute_result"
    },
    {
     "data": {
      "image/png": "[encoded data removed]",
      "text/plain": [
       "<Figure size 1100x900 with 2 Axes>"
      ]
     },
     "metadata": {},
     "output_type": "display_data"
    }
   ],
   "source": [
    "mask = np.triu(np.ones_like(corr_matrix, dtype=bool))\n",
    "\n",
    "# Set up the matplotlib figure\n",
    "f, ax = plt.subplots(figsize=(11, 9))\n",
    "\n",
    "# Generate a custom diverging colormap\n",
    "cmap = sns.diverging_palette(230, 20, as_cmap=True)\n",
    "\n",
    "# Draw the heatmap with the mask and correct aspect ratio\n",
    "sns.heatmap(corr_matrix, mask=mask, cmap=cmap, vmax=1, center=0,\n",
    "            square=True, linewidths=.5, cbar_kws={\"shrink\": .5})"
   ]
  },
  {
   "cell_type": "code",
   "execution_count": 48,
   "id": "a0fa5ec9-efc3-4aac-81bd-5321e50579ca",
   "metadata": {
    "tags": []
   },
   "outputs": [
    {
     "data": {
      "text/html": [
       "<table class=\"simpletable\">\n",
       "<caption>OLS Regression Results</caption>\n",
       "<tr>\n",
       "  <th>Dep. Variable:</th>          <td>wage</td>       <th>  R-squared:         </th> <td>   0.515</td>\n",
       "</tr>\n",
       "<tr>\n",
       "  <th>Model:</th>                   <td>OLS</td>       <th>  Adj. R-squared:    </th> <td>   0.512</td>\n",
       "</tr>\n",
       "<tr>\n",
       "  <th>Method:</th>             <td>Least Squares</td>  <th>  F-statistic:       </th> <td>   141.4</td>\n",
       "</tr>\n",
       "<tr>\n",
       "  <th>Date:</th>             <td>Fri, 01 Dec 2023</td> <th>  Prob (F-statistic):</th> <td>1.48e-42</td>\n",
       "</tr>\n",
       "<tr>\n",
       "  <th>Time:</th>                 <td>16:56:40</td>     <th>  Log-Likelihood:    </th> <td> -2141.9</td>\n",
       "</tr>\n",
       "<tr>\n",
       "  <th>No. Observations:</th>      <td>   269</td>      <th>  AIC:               </th> <td>   4290.</td>\n",
       "</tr>\n",
       "<tr>\n",
       "  <th>Df Residuals:</th>          <td>   266</td>      <th>  BIC:               </th> <td>   4301.</td>\n",
       "</tr>\n",
       "<tr>\n",
       "  <th>Df Model:</th>              <td>     2</td>      <th>                     </th>     <td> </td>   \n",
       "</tr>\n",
       "<tr>\n",
       "  <th>Covariance Type:</th>      <td>nonrobust</td>    <th>                     </th>     <td> </td>   \n",
       "</tr>\n",
       "</table>\n",
       "<table class=\"simpletable\">\n",
       "<tr>\n",
       "     <td></td>       <th>coef</th>     <th>std err</th>      <th>t</th>      <th>P>|t|</th>  <th>[0.025</th>    <th>0.975]</th>  \n",
       "</tr>\n",
       "<tr>\n",
       "  <th>const</th>  <td>  -67.2538</td> <td>   99.778</td> <td>   -0.674</td> <td> 0.501</td> <td> -263.709</td> <td>  129.201</td>\n",
       "</tr>\n",
       "<tr>\n",
       "  <th>points</th> <td>  102.1158</td> <td>    7.391</td> <td>   13.816</td> <td> 0.000</td> <td>   87.564</td> <td>  116.668</td>\n",
       "</tr>\n",
       "<tr>\n",
       "  <th>exper</th>  <td>   86.6095</td> <td>   12.787</td> <td>    6.773</td> <td> 0.000</td> <td>   61.433</td> <td>  111.786</td>\n",
       "</tr>\n",
       "</table>\n",
       "<table class=\"simpletable\">\n",
       "<tr>\n",
       "  <th>Omnibus:</th>       <td>38.850</td> <th>  Durbin-Watson:     </th> <td>   1.816</td>\n",
       "</tr>\n",
       "<tr>\n",
       "  <th>Prob(Omnibus):</th> <td> 0.000</td> <th>  Jarque-Bera (JB):  </th> <td>  66.608</td>\n",
       "</tr>\n",
       "<tr>\n",
       "  <th>Skew:</th>          <td> 0.809</td> <th>  Prob(JB):          </th> <td>3.44e-15</td>\n",
       "</tr>\n",
       "<tr>\n",
       "  <th>Kurtosis:</th>      <td> 4.823</td> <th>  Cond. No.          </th> <td>    30.2</td>\n",
       "</tr>\n",
       "</table><br/><br/>Notes:<br/>[1] Standard Errors assume that the covariance matrix of the errors is correctly specified."
      ],
      "text/latex": [
       "\\begin{center}\n",
       "\\begin{tabular}{lclc}\n",
       "\\toprule\n",
       "\\textbf{Dep. Variable:}    &       wage       & \\textbf{  R-squared:         } &     0.515   \\\\\n",
       "\\textbf{Model:}            &       OLS        & \\textbf{  Adj. R-squared:    } &     0.512   \\\\\n",
       "\\textbf{Method:}           &  Least Squares   & \\textbf{  F-statistic:       } &     141.4   \\\\\n",
       "\\textbf{Date:}             & Fri, 01 Dec 2023 & \\textbf{  Prob (F-statistic):} &  1.48e-42   \\\\\n",
       "\\textbf{Time:}             &     16:56:40     & \\textbf{  Log-Likelihood:    } &   -2141.9   \\\\\n",
       "\\textbf{No. Observations:} &         269      & \\textbf{  AIC:               } &     4290.   \\\\\n",
       "\\textbf{Df Residuals:}     &         266      & \\textbf{  BIC:               } &     4301.   \\\\\n",
       "\\textbf{Df Model:}         &           2      & \\textbf{                     } &             \\\\\n",
       "\\textbf{Covariance Type:}  &    nonrobust     & \\textbf{                     } &             \\\\\n",
       "\\bottomrule\n",
       "\\end{tabular}\n",
       "\\begin{tabular}{lcccccc}\n",
       "                & \\textbf{coef} & \\textbf{std err} & \\textbf{t} & \\textbf{P$> |$t$|$} & \\textbf{[0.025} & \\textbf{0.975]}  \\\\\n",
       "\\midrule\n",
       "\\textbf{const}  &     -67.2538  &       99.778     &    -0.674  &         0.501        &     -263.709    &      129.201     \\\\\n",
       "\\textbf{points} &     102.1158  &        7.391     &    13.816  &         0.000        &       87.564    &      116.668     \\\\\n",
       "\\textbf{exper}  &      86.6095  &       12.787     &     6.773  &         0.000        &       61.433    &      111.786     \\\\\n",
       "\\bottomrule\n",
       "\\end{tabular}\n",
       "\\begin{tabular}{lclc}\n",
       "\\textbf{Omnibus:}       & 38.850 & \\textbf{  Durbin-Watson:     } &    1.816  \\\\\n",
       "\\textbf{Prob(Omnibus):} &  0.000 & \\textbf{  Jarque-Bera (JB):  } &   66.608  \\\\\n",
       "\\textbf{Skew:}          &  0.809 & \\textbf{  Prob(JB):          } & 3.44e-15  \\\\\n",
       "\\textbf{Kurtosis:}      &  4.823 & \\textbf{  Cond. No.          } &     30.2  \\\\\n",
       "\\bottomrule\n",
       "\\end{tabular}\n",
       "%\\caption{OLS Regression Results}\n",
       "\\end{center}\n",
       "\n",
       "Notes: \\newline\n",
       " [1] Standard Errors assume that the covariance matrix of the errors is correctly specified."
      ],
      "text/plain": [
       "<class 'statsmodels.iolib.summary.Summary'>\n",
       "\"\"\"\n",
       "                            OLS Regression Results                            \n",
       "==============================================================================\n",
       "Dep. Variable:                   wage   R-squared:                       0.515\n",
       "Model:                            OLS   Adj. R-squared:                  0.512\n",
       "Method:                 Least Squares   F-statistic:                     141.4\n",
       "Date:                Fri, 01 Dec 2023   Prob (F-statistic):           1.48e-42\n",
       "Time:                        16:56:40   Log-Likelihood:                -2141.9\n",
       "No. Observations:                 269   AIC:                             4290.\n",
       "Df Residuals:                     266   BIC:                             4301.\n",
       "Df Model:                           2                                         \n",
       "Covariance Type:            nonrobust                                         \n",
       "==============================================================================\n",
       "                 coef    std err          t      P>|t|      [0.025      0.975]\n",
       "------------------------------------------------------------------------------\n",
       "const        -67.2538     99.778     -0.674      0.501    -263.709     129.201\n",
       "points       102.1158      7.391     13.816      0.000      87.564     116.668\n",
       "exper         86.6095     12.787      6.773      0.000      61.433     111.786\n",
       "==============================================================================\n",
       "Omnibus:                       38.850   Durbin-Watson:                   1.816\n",
       "Prob(Omnibus):                  0.000   Jarque-Bera (JB):               66.608\n",
       "Skew:                           0.809   Prob(JB):                     3.44e-15\n",
       "Kurtosis:                       4.823   Cond. No.                         30.2\n",
       "==============================================================================\n",
       "\n",
       "Notes:\n",
       "[1] Standard Errors assume that the covariance matrix of the errors is correctly specified.\n",
       "\"\"\""
      ]
     },
     "execution_count": 48,
     "metadata": {},
     "output_type": "execute_result"
    }
   ],
   "source": [
    "x, y = df[[\"points\", \"exper\"]], df[\"wage\"]\n",
    "x = sm.add_constant(x)\n",
    "model = sm.OLS(y, x)\n",
    "results = model.fit()\n",
    "results.summary()"
   ]
  },
  {
   "cell_type": "code",
   "execution_count": null,
   "id": "56b15a28-ff50-4ba0-a940-721954789f5c",
   "metadata": {},
   "outputs": [],
   "source": []
  }
 ],
 "metadata": {
  "kernelspec": {
   "display_name": "Python 3 (ipykernel)",
   "language": "python",
   "name": "python3"
  },
  "language_info": {
   "codemirror_mode": {
    "name": "ipython",
    "version": 3
   },
   "file_extension": ".py",
   "mimetype": "text/x-python",
   "name": "python",
   "nbconvert_exporter": "python",
   "pygments_lexer": "ipython3",
   "version": "3.10.8"
  }
 },
 "nbformat": 4,
 "nbformat_minor": 5
}
